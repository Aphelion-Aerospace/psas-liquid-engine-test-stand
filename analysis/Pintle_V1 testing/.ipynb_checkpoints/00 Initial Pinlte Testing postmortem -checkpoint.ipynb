{
 "cells": [
  {
   "cell_type": "markdown",
   "metadata": {},
   "source": [
    "# Pintle Test for 2.2kN Liquid Propellant Rocket Engine\n",
    "Dates of testing: 1/19/19, 1/26/19 & 2/3/19"
   ]
  },
  {
   "cell_type": "markdown",
   "metadata": {},
   "source": [
    "# Introduction\n",
    "\n",
    "\n",
    "The Portland State Aerospace Society is in the process of testing its $2.2kN$ ($500 lb_f$) regeneratively cooled bi-propellant rocket motor. One of the critical steps prior to hot firing the motor is the testing and validating of the injector design. \n",
    "\n"
   ]
  },
  {
   "cell_type": "markdown",
   "metadata": {},
   "source": [
    "\n",
    "# Pintle Design:\n",
    " \n",
    "<img src=\"./Images/engine_cross_section.png\" alt=\"Drawing\" style=\"width: 350px\"/>\n",
    "\n",
    "<center>Figure 1: Cross section of 2.2 kN engine. Fuel flow path shown in red, LOX flow path shown in green.</center>\n",
    "\n",
    "<img src=\"./Images/pintle dimensions.PNG\" alt=\"Drawing\" style=\"width: 350px\"/>\n",
    "\n",
    "<center>Figure 2: Cross section of Pintle with basic dimensions for flow paths.</center>\n",
    "\n",
    "## Relevant Design Requirements:\n",
    "\n",
    "The pintle injector needs to meet the following requirements:\n",
    "\n",
    "1. Oxidizer: Liquid Oxygen\n",
    "2. Fuel: 70% Isoproply Alchohol, 30% water\n",
    "3. Meet mass flow rates at a pressure differential between 15-20 % of chamber pressure: \n",
    "    - Engine chamber pressure 350 psi (as designed)\n",
    "    - Target pressure differential: 53-70 psi   \n",
    "4. LOX mass flow rate of 0.9 lbm/s (0.4082 kg/s)\n",
    "5. Fuel mass flow rate of 1.16 lbm/s (0.5262 kg/s)\n",
    "\n"
   ]
  },
  {
   "cell_type": "markdown",
   "metadata": {},
   "source": [
    "# Objectives\n",
    "\n",
    "Desired data and outcomes:\n",
    "\n",
    "- Determine loss coefficients ($C_L$)\n",
    "    - Pintle (LOX path) \n",
    "    - Annulus (Fuel path)\n",
    "- Verify desired flow rates acheived at a delta pressure of 70 psi\n",
    "\n"
   ]
  },
  {
   "cell_type": "markdown",
   "metadata": {},
   "source": [
    "# Equations and Theory\n",
    "\n",
    "\n",
    "The first testing objective was to determine the loss coefficients for the Pintle and Annulus flow paths. For practical, cost, and safety reasons the initial testing was performed using water.\n",
    "\n",
    "The governing equations employed:\n",
    "\n",
    "Flow coefficient for the style of orifice plate used in testing [1];\n",
    "\n",
    "\\begin{equation}\n",
    "C_v = \\frac{Q_{gpm}}{\\sqrt{\\Delta P}}\n",
    "\\label{eq1}\n",
    "\\tag{1}\n",
    "\\end{equation}\n",
    "\n",
    "Where;\n",
    "\n",
    "$C_v = $ the flow coefficient \n",
    "\n",
    "$Q_{gpm} =$ is the volumentric flow rate in gallons per minute \n",
    "\n",
    "$\\Delta P = $ is the difference in pressure across the orifice \n",
    "\n",
    "\n",
    "$ \\\\ $\n",
    "\n",
    "\n",
    "Mass flow rate:\n",
    "\n",
    "\\begin{equation}\n",
    " \\dot{m} = \\rho VA\n",
    "\\label{eq2}\n",
    "\\tag{2}\n",
    "\\end{equation}\n",
    "\n",
    "Energy Equation, with elevation, velocity, and head loss due to friction neglected:\n",
    "\n",
    "\\begin{equation}\n",
    "P_1  = P_2 + C_L\\frac{\\rho V_2^2}{2}\n",
    "\\label{eq3}\n",
    "\\tag{3}\n",
    "\\end{equation}\n",
    "\n",
    "\n",
    "Combining equation \\ref{eq2} and \\ref{eq3} by substituting $V = \\frac{\\dot{m}}{\\rho  A}$ and rearranging to find equations for the loss coefficients for Pintle and Annulus:\n",
    "\n",
    "\\begin{equation}\n",
    "\\dot{m} = C_LA \\sqrt{2\\rho(\\Delta P)}\n",
    "\\label{eq4}\n",
    "\\tag{4}\n",
    "\\end{equation}\n",
    "\n",
    "\n",
    "Where;\n",
    "\n",
    "$C_L = $ Loss coefficient (to be calculated)\n",
    "\n",
    "$A =$ Flow area(s) of Pintle/Annulus\n",
    "\n",
    "$\\dot{m} =$  Mass Flow Rate (from flow meter) \n",
    "\n",
    "$\\Delta P =$ Pressure upstream of Pintle/Annulus (gauge) - atmospheric pressure (0 psi)\n",
    "\n",
    "$\\rho = $ Density of water (calculate based on temperature)\n",
    "\n",
    "Note: Each flow path has multiple changes to flow area between point of measurement and the atmosphere. As a result, it is being assumed (possibly incorrectly) that the $C_L$ and discharge area  $A$ are coupled and the loss coefficient should incorporate both with the understanding that the coefficient is only good for this specific version of the pintle design; \n",
    "\n",
    "\\begin{equation}\n",
    "C_LA = C_A = \\frac{\\dot{m}}{\\sqrt{2\\rho(\\Delta P)}}\n",
    "\\label{eq5}\n",
    "\\tag{5}\n",
    "\\end{equation}\n",
    "\n",
    "\n",
    "From this it was determined that in order to solve for $C_A$ the experimental set up needed to determine the mass flow rate and pressure drop. \n"
   ]
  },
  {
   "cell_type": "markdown",
   "metadata": {},
   "source": [
    "\n",
    "# Methods\n",
    "\n",
    "\n",
    "The following test set up was designed to obtain the mass flow and pressure measurements. \n",
    "\n",
    "\n",
    "<img src=\"./Images/Test_setup.PNG\" alt=\"Drawing\" style=\"width: 600px\"/>\n",
    "\n",
    "\n",
    "<center>Figure 3: Schematic of Pintle Test Layout</center>\n",
    "\n",
    "## Calibration: \n",
    "\n",
    "\n",
    "<br>**Pressure Transducers:**\n",
    "\n",
    "<br>The 5 pressure transducers were calibrated simultaneously on the stand using compressed air for measurements at 0, 25, 50, 75, and 100 PSIG. The system pressure was set using a bourdon tube style pressure gauge. This calibration was repeated at the start of each day of testing. \n",
    "\n",
    "\n",
    "<br>**Flow measuremnt:**\n",
    "\n",
    "<br>Our initial test set up included a turbine flow meter (not shown in schematic) located between the manual linear globe valve and pressure transducer 2. This flow meter was found to be malfunctioning. We decided to move forward with the test using only the calibrated orifice plate to determine the total mass flow rate for the pintle and annulus.  \n",
    "<br>The orifice was calibrated using multiple input pressures. The flow rate was determined using a stop watch and a graduated container. Timing for each of the tests began at the $1/2$ gallon mark and ended at the 3.5 gallon mark in order allow the flow to reach a steady flow rate.   Times were recorded every quarter gallon and then plotted to determine flow rates.  The collected measurements were graphed in order to obtain the flow rates. Each of the flow rates was then plotted against the corresponding pressure drop and compared to the average $C_v$ calculated from the experiment. \n",
    "\n",
    "<img src=\"Images/main_orifice_calibration_graph.PNG\" alt=\"Drawing\" style=\"width: 600px;\"/>\n",
    "\n",
    "\n",
    "\n",
    "\n",
    "<center>Figure 1: Pressure Loss calibration curve and experimental data for calibrated orifice. Experimental data indicated that the accuracy of the orifice drops off steeply at pressure differences over 30 psi. More on this in the Issues section</center>\n",
    "\n",
    "After determining the $C_v$ of the main orifice, the pintle test article was attached to the system and the following test plan was followed:\n"
   ]
  },
  {
   "cell_type": "markdown",
   "metadata": {},
   "source": [
    "# Test procedure. \n",
    "\n",
    "\n",
    "1. With valve to fuel circuit closed and valve to LOX circuit open.  Test LOX circuit at 50, 100, and 200 psi. Use flow rate data from orifice plate and pressure recorded above the pintle to determine loss coefficient for pintle flow path, $C_{A,pintle}$. \n",
    "\n",
    "2. With valve to LOX circuit closed and valve to Fuel circuit open.  Test fuel circuit at 50, 100, and 200 psi. Use flow rate data from orifice plate and pressure recorded above the annulus to determine loss coefficient for annulus flow path, $C_{A,annulus}$.\n",
    "\n",
    "3. Starting with Fuel circuit valve open, and LOX circuit valve closed, adjust flow through pintle using LOX circuit glove valve unitl a 45$^{\\circ}$ spray is observed. Spray angle to be measured visually using a large laser cut protractor with radial spokes every 15$^{\\circ}$.  \n",
    "\n",
    "4. With spray angle adjusted to 45$^{\\circ}$, record total flow rate using orifice plate. Determine LOX circuit and Fuel Circuit flow rates using previously calculated loss coefficients, $C_{A,pintle}$ and $C_{A,annulus}$ to determine the flow rates for each fluid circuit. Double \n",
    "5. Repeat steps 3 and 4 at 50, 100, and 200 psi.\n",
    "6. After testing, check flow rates for each circuit against the continuity equation:\n",
    "$$Q_{total} = Q_{pintle}+Q_{annulus} $$\n"
   ]
  },
  {
   "cell_type": "markdown",
   "metadata": {},
   "source": [
    "\\[1\\] [O'keefe Controls Technical Considerations Document](files/Images/Orifice Technical Considerations.pdf)"
   ]
  },
  {
   "cell_type": "markdown",
   "metadata": {},
   "source": [
    "\n",
    "\n"
   ]
  },
  {
   "cell_type": "code",
   "execution_count": null,
   "metadata": {},
   "outputs": [],
   "source": []
  }
 ],
 "metadata": {
  "kernelspec": {
   "display_name": "Python 3",
   "language": "python",
   "name": "python3"
  },
  "language_info": {
   "codemirror_mode": {
    "name": "ipython",
    "version": 3
   },
   "file_extension": ".py",
   "mimetype": "text/x-python",
   "name": "python",
   "nbconvert_exporter": "python",
   "pygments_lexer": "ipython3",
   "version": "3.6.3"
  },
  "toc": {
   "base_numbering": 1,
   "nav_menu": {
    "height": "76px",
    "width": "160px"
   },
   "number_sections": true,
   "sideBar": true,
   "skip_h1_title": false,
   "title_cell": "Table of Contents",
   "title_sidebar": "Contents",
   "toc_cell": false,
   "toc_position": {},
   "toc_section_display": true,
   "toc_window_display": false
  }
 },
 "nbformat": 4,
 "nbformat_minor": 2
}
