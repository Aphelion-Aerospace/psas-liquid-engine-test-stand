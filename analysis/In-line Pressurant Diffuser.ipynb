{
 "cells": [
  {
   "cell_type": "markdown",
   "metadata": {},
   "source": []
  },
  {
   "cell_type": "code",
   "execution_count": null,
   "metadata": {
    "collapsed": true
   },
   "outputs": [],
   "source": [
    "import math as m\n",
    "import numpy as np\n",
    "\n",
    "# Prop Properties [lox, ipa]\n",
    "mdot = np.array[1.13, 0.94] # Mass Flow Rate [lbf/s]\n",
    "T = np.array[90.2, 293] # Temperature [K]\n",
    "rho = np.array[71.38, 55.249] # Density [lbf/ft^3]\n",
    "mu = np.array[0.000014, 0.000067] # Viscocity [lb/in*s]\n",
    "\n",
    "# Diffuser Properties\n",
    "Ae = 0.51 # Exposed Area, Diffuser [%]\n",
    "ri = _ # Entrance Radius [in.]\n",
    "ro = _ # Exhaust Radius  [in.]\n",
    "Ai = m.pi*ri**2 # Entrance Area [in.^2]\n",
    "Ao = m.pi*ro**2 # Exhaust Area [in.^2]\n"
   ]
  }
 ],
 "metadata": {
  "kernelspec": {
   "display_name": "Python 3",
   "language": "python",
   "name": "python3"
  },
  "language_info": {
   "codemirror_mode": {
    "name": "ipython",
    "version": 3
   },
   "file_extension": ".py",
   "mimetype": "text/x-python",
   "name": "python",
   "nbconvert_exporter": "python",
   "pygments_lexer": "ipython3",
   "version": "3.6.0"
  }
 },
 "nbformat": 4,
 "nbformat_minor": 2
}
