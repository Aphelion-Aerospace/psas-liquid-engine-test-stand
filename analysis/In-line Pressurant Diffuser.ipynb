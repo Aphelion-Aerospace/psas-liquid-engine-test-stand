{
 "cells": [
  {
   "cell_type": "markdown",
   "metadata": {},
   "source": [
    "## In-Line Pressurant Diffuser\n",
    "\n",
    "Lox Tank: Luxfer DOT-3AL1800 U748514\n",
    "    - Thread size 1 1/8\"\n",
    "    - Straight thread\n",
    "    - Depth: 1.25\"\n",
    "    \n",
    "Ethanol Tank: Hoke DOT-3A1800 80A4370\n",
    "    - Rated at 1800 psi\n",
    "    \n",
    "Lox Fitting: swagelok B-12-HRN-8"
   ]
  },
  {
   "cell_type": "code",
   "execution_count": null,
   "metadata": {
    "collapsed": true
   },
   "outputs": [],
   "source": [
    "import math as m\n",
    "import numpy as np\n",
    "\n",
    "# Prop Properties [lox, ipa]\n",
    "mdot = np.array[1.13, 0.94] # Mass Flow Rate [lbf/s]\n",
    "T = np.array[90.2, 293] # Temperature [K]\n",
    "rho = np.array[71.38, 55.249] # Density [lbf/ft^3]\n",
    "mu = np.array[0.000014, 0.000067] # Viscocity [lb/in*s]\n",
    "\n",
    "# Diffuser Properties\n",
    "Ae = 0.51 # Exposed Area, Diffuser [%]\n",
    "ri = _ # Entrance Radius [in.]\n",
    "ro = _ # Exhaust Radius  [in.]\n",
    "Ai = m.pi*ri**2 # Entrance Area [in.^2]\n",
    "Ao = m.pi*ro**2 # Exhaust Area [in.^2]\n"
   ]
  },
  {
   "cell_type": "code",
   "execution_count": null,
   "metadata": {
    "collapsed": true
   },
   "outputs": [],
   "source": []
  }
 ],
 "metadata": {
  "kernelspec": {
   "display_name": "Python 2",
   "language": "python",
   "name": "python2"
  },
  "language_info": {
   "codemirror_mode": {
    "name": "ipython",
    "version": 2
   },
   "file_extension": ".py",
   "mimetype": "text/x-python",
   "name": "python",
   "nbconvert_exporter": "python",
   "pygments_lexer": "ipython2",
   "version": "2.7.13"
  }
 },
 "nbformat": 4,
 "nbformat_minor": 2
}
