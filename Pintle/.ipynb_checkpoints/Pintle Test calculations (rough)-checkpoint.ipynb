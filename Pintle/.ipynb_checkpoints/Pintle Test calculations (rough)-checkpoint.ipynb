{
 "cells": [
  {
   "cell_type": "markdown",
   "metadata": {},
   "source": [
    "# Pintle Test\n",
    "\n",
    "- Test proceedure to be migrated over from drive file - \n"
   ]
  },
  {
   "cell_type": "markdown",
   "metadata": {},
   "source": [
    "## Water Testing the pintle\n",
    "\n",
    "For the water test we need total water mass flow rate of 2.06 lbm/s.  \n",
    "\n",
    "This will be accomplished using a pressurized tank of water and a metering orifice upstream of the Pintle test.\n",
    "\n",
    "### Orifice size\n",
    "\n",
    "The orifice needs to be picked / manufactured, so that at a known pressure difference we have a known mass flow rate of water.\n",
    "\n",
    "needed variables and conversions:\n",
    "- water density in slugs/ft^3 => 1.94 (slug / ft^3)\n",
    "- gravity = 32.2 ft/s^2\n",
    "- conversion from ft^3 to gal => (7.48 gal/ft^3) \n",
    "- conversion from seconds to minutes => (60 s/min)\n",
    "\n",
    "Calculations for the flow rate in GPM in python script below:"
   ]
  },
  {
   "cell_type": "code",
   "execution_count": 1,
   "metadata": {},
   "outputs": [
    {
     "name": "stdout",
     "output_type": "stream",
     "text": [
      "Water density,                h2o_density          = 62.47 lbm/ft^3\n",
      "Water flow rate in gal/min,   h2o_volume_flow      = 14.80 gal/min\n"
     ]
    }
   ],
   "source": [
    "import math\n",
    "\n",
    "h2o_massflow = 2.06 #lbm/s (pound mass per second)\n",
    "h2o_density = 1.94 * 32.2 #lbm/ft^3\n",
    "ft3_to_gal = 7.48 # gal / ft^3\n",
    "\n",
    "h2o_volume_flow = (1/h2o_density * ft3_to_gal * 60) * h2o_massflow  \n",
    "\n",
    "#print(\"Feet to gallons,              ft3_to_gal           = %.2f lbm/ft^3\" % ft3_to_gal)\n",
    "print(\"Water density,                h2o_density          = %.2f lbm/ft^3\" % h2o_density)\n",
    "print(\"Water flow rate in gal/min,   h2o_volume_flow      = %.2f gal/min\" % h2o_volume_flow)\n"
   ]
  },
  {
   "cell_type": "markdown",
   "metadata": {},
   "source": [
    "Currently have a .125 diameter orifice with a $C_v$ of 0.370. The data graphed below is based on the manufacturer's data table for a calibrated 0.125 in orifice:"
   ]
  },
  {
   "cell_type": "code",
   "execution_count": 2,
   "metadata": {},
   "outputs": [
    {
     "data": {
      "image/png": "[encoded data removed]",
      "text/plain": [
       "<matplotlib.figure.Figure at 0x2179561db70>"
      ]
     },
     "metadata": {},
     "output_type": "display_data"
    }
   ],
   "source": [
    "import numpy\n",
    "import math\n",
    "from mpmath import *\n",
    "from matplotlib import pyplot as plt\n",
    "\n",
    "gpm = [0.370, 0.523, 0.641, 0.740, 0.827, 0.906, 0.979, 1.047, 1.110, 1.170, 1.433,\n",
    "       1.655, 2.027, 2.340, 2.616, 2.866, 3.096, 3.309, 3.510, 3.70]\n",
    "\n",
    "psi = [1, 2, 3, 4, 5, 6, 7, 8, 9, 10, 15, 20, 30, 40, 50, 60, 70, 80, 90, 100]\n",
    "\n",
    "plt.plot(psi, gpm)\n",
    "plt.xlabel('psi')\n",
    "plt.ylabel('gpm')\n",
    "plt.show()\n",
    "\n"
   ]
  },
  {
   "cell_type": "markdown",
   "metadata": {
    "collapsed": true
   },
   "source": [
    "### note: \n",
    "The 0.125 in orifice is too small, but it is clear from the data that a larger orifice will have a certain amount of leeway on the diameter of the orifice which will give us the needed flow rate. The supply pressure (in our case the pressure drop across the orifice) can be adjusted to give the needed flow rate. \n",
    "\n",
    "## Manufacturer's equations\n",
    "\n",
    "For sizing an unkown orifice diameter with a known required flow rate:\n",
    "\n",
    "eq (1) : $d_L = \\left(\\frac{1}{22.5}\\frac{Q_L}{\\sqrt{\\Delta P}}\\right)^{1/2}$ \n",
    "\n",
    "eq (2) : $C_{vl} = \\frac{Q}{\\sqrt{\\Delta P}}$\n",
    "\n",
    "Volume flow rate for known $C_{v}$ and $\\Delta P$\n",
    "\n",
    "eq (3) : $Q = C_{v}\\sqrt{\\Delta P}$\n",
    "\n",
    "\n",
    "\n",
    "\n"
   ]
  },
  {
   "cell_type": "code",
   "execution_count": 3,
   "metadata": {},
   "outputs": [
    {
     "name": "stdout",
     "output_type": "stream",
     "text": [
      "Pressure drop needed for 14.8 gpm with 0.125 in orifice 1600.01 \n"
     ]
    }
   ],
   "source": [
    "# Required pressure for a 14.8 gpm using the 0.125 in orifice\n",
    "\n",
    "cv_125 = 0.370   # Flow factor for 0.125 in diameter orifice per manufacturer's specs\n",
    "\n",
    "pressure_drop = (h2o_volume_flow/cv_125)**2\n",
    "\n",
    "print(\"Pressure drop needed for 14.8 gpm with 0.125 in orifice %.2f \" % pressure_drop)"
   ]
  },
  {
   "cell_type": "markdown",
   "metadata": {},
   "source": [
    "Add some text regarding calculating the theoretical orifice size"
   ]
  },
  {
   "cell_type": "code",
   "execution_count": 4,
   "metadata": {},
   "outputs": [
    {
     "name": "stdout",
     "output_type": "stream",
     "text": [
      "Theoretical orifice size for 14.8 gpm =  0.37426 inches\n",
      "Nearest standard drill size = 3/8th in (0.375)\n"
     ]
    }
   ],
   "source": [
    "\n",
    "# Guess and check to find a reasonable pressure range and coresponding drill \n",
    "delta_pressure = 69.5\n",
    "\n",
    "orifice = sqrt(1/22.5) * (h2o_volume_flow / (delta_pressure)**(1/2))\n",
    "\n",
    "print('Theoretical orifice size for 14.8 gpm =  %.5f inches' % orifice)\n",
    "\n",
    "print('Nearest standard drill size = 3/8th in (0.375)' )"
   ]
  },
  {
   "cell_type": "markdown",
   "metadata": {
    "collapsed": true
   },
   "source": [
    "To experimentally determine the flow coefficient $C_v$ we will need to determine the flow rate through the orifice at 1 psi. We can then use equation (2) from the manufaturer (listed above) \n",
    "\n"
   ]
  },
  {
   "cell_type": "code",
   "execution_count": 5,
   "metadata": {},
   "outputs": [
    {
     "name": "stdout",
     "output_type": "stream",
     "text": [
      "Height of water needed for 1 psi           = 27.692 in\n",
      "Estimated volume of water for experiment   = 1.775 gallons/min\n"
     ]
    }
   ],
   "source": [
    "# Water heigh needed for 1 psi\n",
    "\n",
    "import math\n",
    "\n",
    "h2o_specific_weight = 62.4    #lbf/ft^3\n",
    "needed_psi =1                 # need 1 psi for the experiment\n",
    "g = 32.2                      # standard gravity ft/s^2\n",
    "\n",
    "\n",
    "height_ft = (needed_psi * 144) / (h2o_specific_weight) #(lbf/in^2)*(in^2/ft^2) / lbf/ft^3 -> ft\n",
    "height = height_ft * 12\n",
    "\n",
    "print('Height of water needed for 1 psi           = %.3f in' % height )\n",
    "\n",
    "# estimated minimum amount of water expected through orifice at 1 psi:\n",
    "\n",
    "est_cv = (h2o_volume_flow) / (delta_pressure)**(1/2)\n",
    "\n",
    "est_h2o = est_cv * (needed_psi)**(1/2)\n",
    "\n",
    "print('Estimated volume of water for experiment   = %.3f gallons/min' % est_h2o )\n"
   ]
  },
  {
   "cell_type": "code",
   "execution_count": 6,
   "metadata": {},
   "outputs": [
    {
     "name": "stdout",
     "output_type": "stream",
     "text": [
      "Flow coefficient for 0.375 in is 3.557611\n",
      "Flow coefficient for no orifice in is 5.800982\n",
      "Flow coefficient for 0.125 in is 0.211560\n",
      "Difference between ideal 0.125 and experiment is 0.158440\n",
      "\n",
      "Pressure drop needed for 14.8 gpm with 0.375 inch orifice 18.96 \n"
     ]
    },
    {
     "data": {
      "image/png": "[encoded data removed]",
      "text/plain": [
       "<matplotlib.figure.Figure at 0x21796a4e048>"
      ]
     },
     "metadata": {},
     "output_type": "display_data"
    },
    {
     "data": {
      "image/png": "[encoded data removed]",
      "text/plain": [
       "<matplotlib.figure.Figure at 0x21796ad3908>"
      ]
     },
     "metadata": {},
     "output_type": "display_data"
    }
   ],
   "source": [
    "import csv\n",
    "import numpy\n",
    "from mpmath import *\n",
    "from matplotlib import pyplot as plt\n",
    "\n",
    "# import the data from the Orifice Experiment csv file\n",
    "    \n",
    "with open ('ORIFICE_EXPERIMENT.csv', newline='') as f:\n",
    "    reader = csv.reader(f)\n",
    "    x = list(reader)\n",
    "    result = numpy.array(x).astype(\"str\")\n",
    "    \n",
    "    # Slicing out the times for each of the three experiments where the trailing number indicates which experiment it belongs to:\n",
    "    # 1 : 0.375 in orivice - this orifice was machined and needs to have the flow coefficient experimentally determined\n",
    "    # 2 : no orifice - 5 test runs were performed without an orifice to help determine the affect of the pipe, valve, etc\n",
    "            # on the experiment\n",
    "    # 3 : 0.125 in orifice: this orifice was not modified from the manufacturer and was used as a control. \n",
    "    \n",
    "    times = result[:,1]\n",
    "    time1 = numpy.array(times[1:6]).astype(\"float\")\n",
    "    time2 = numpy.array(times[7:12]).astype(\"float\")\n",
    "    time3 = numpy.array(times[13:18]).astype(\"float\")\n",
    "\n",
    "    weight = result[:,3]\n",
    "    weight1 = numpy.array(weight[1:6]).astype(\"float\")\n",
    "    weight2 = numpy.array(weight[7:12]).astype(\"float\")\n",
    "    weight3 = numpy.array(weight[13:18]).astype(\"float\")\n",
    "    \n",
    "    # finding the average time and weight recorded for each of the experiments.\n",
    "    \n",
    "    t_ave_1 = numpy.mean(time1)\n",
    "    t_ave_2 = numpy.mean(time2)\n",
    "    t_ave_3 = numpy.mean(time3)\n",
    "    \n",
    "    wt_avg_1 = numpy.mean(weight1)\n",
    "    wt_avg_2 = numpy.mean(weight2)\n",
    "    wt_avg_3 = numpy.mean(weight3)\n",
    "    \n",
    "    \n",
    "    # Conversions and data used for calculations\n",
    "    # Average water temp from the experiments was 72 F, \n",
    "    # Water density interpolated between 62.4 at 32 F and 62.1 at 90 F\n",
    "    \n",
    "    density = 62.19 # lbf/ft^3 \n",
    "    ft3_to_gal = 7.48 #  gal / ft^3 conversion\n",
    "    weight_per_gal = density / ft3_to_gal\n",
    "\n",
    "    \n",
    "    # calculating the flow rate for each of the experiments, units of gal / minute (using 1/60 to convert seconds to min)\n",
    "     \n",
    "    flow1 = (wt_avg_1 / weight_per_gal)/(t_ave_1/60) \n",
    "    flow2 = (wt_avg_2 / weight_per_gal)/(t_ave_2/60)\n",
    "    flow3 = (wt_avg_3 / weight_per_gal)/(t_ave_3/60)\n",
    "    flow4 = (2.76 / weight_per_gal)/(t_ave_3/60)\n",
    "\n",
    "    delta_cl = 0.370 - flow3\n",
    "    \n",
    "    print ('Flow coefficient for 0.375 in is %.6f' % flow1)\n",
    "    print ('Flow coefficient for no orifice in is %.6f' % flow2)\n",
    "    print ('Flow coefficient for 0.125 in is %.6f' % flow3)\n",
    "    print ('Difference between ideal 0.125 and experiment is %.6f' % delta_cl)\n",
    "\n",
    "    pressure_drop = (14.8/(flow1 - delta_cl))**2\n",
    " \n",
    "    print ()\n",
    "    print(\"Pressure drop needed for 14.8 gpm with 0.375 inch orifice %.2f \" % pressure_drop)\n",
    "    \n",
    "# some graphs\n",
    "\n",
    "psi = [1, 2, 3, 4, 5, 6, 7, 8, 9, 10, 15, 20, 30, 40, 50, 60, 70, 80, 90, 100]\n",
    "gpm = []\n",
    "gpm1 = []\n",
    "gpm2 = []\n",
    "gpm3 = []\n",
    "\n",
    "for n in psi:\n",
    "    gpm.append(0.37 * (n)**(1/2)) # manufacturer's spec for 0.125 in orifice\n",
    "    gpm1.append(flow1 * (n)**(1/2)) # \n",
    "    gpm2.append(flow2 * (n)**(1/2))\n",
    "    gpm3.append(flow3 * (n)**(1/2))\n",
    "    \n",
    "    \n",
    "    \n",
    "plt.plot(psi, gpm1, label = '0.375')\n",
    "plt.plot(psi, gpm, label = '.125 Calibration')\n",
    "plt.plot(psi, gpm2, label = 'no orifice')\n",
    "plt.plot(psi, gpm3, label = '.125 Experiment')\n",
    "plt.title('0.375 in: flow rate vs pressure')\n",
    "plt.xlabel('psi')\n",
    "plt.ylabel('gpm')\n",
    "plt.legend()\n",
    "plt.show()\n",
    "    \n",
    "plt.plot(psi, gpm, label = '.125 Calibration')\n",
    "plt.plot(psi, gpm3, label = '.125 Experiment')\n",
    "plt.title('0.125 inch orifice, calibration vs experiment')\n",
    "plt.xlabel('psi')\n",
    "plt.ylabel('gpm')\n",
    "plt.legend()\n",
    "plt.show()\n",
    "\n"
   ]
  },
  {
   "cell_type": "code",
   "execution_count": null,
   "metadata": {
    "collapsed": true
   },
   "outputs": [],
   "source": []
  }
 ],
 "metadata": {
  "kernelspec": {
   "display_name": "Python 3",
   "language": "python",
   "name": "python3"
  },
  "language_info": {
   "codemirror_mode": {
    "name": "ipython",
    "version": 3
   },
   "file_extension": ".py",
   "mimetype": "text/x-python",
   "name": "python",
   "nbconvert_exporter": "python",
   "pygments_lexer": "ipython3",
   "version": "3.6.3"
  },
  "toc": {
   "base_numbering": 1,
   "nav_menu": {},
   "number_sections": true,
   "sideBar": true,
   "skip_h1_title": false,
   "title_cell": "Table of Contents",
   "title_sidebar": "Contents",
   "toc_cell": false,
   "toc_position": {},
   "toc_section_display": true,
   "toc_window_display": false
  }
 },
 "nbformat": 4,
 "nbformat_minor": 2
}
