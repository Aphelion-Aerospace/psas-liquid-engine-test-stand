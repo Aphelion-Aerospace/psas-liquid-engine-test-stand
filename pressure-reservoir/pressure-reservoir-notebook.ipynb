{
 "cells": [
  {
   "cell_type": "markdown",
   "metadata": {},
   "source": [
    "# Pressure Reservoir Calculations"
   ]
  },
  {
   "cell_type": "markdown",
   "metadata": {},
   "source": [
    "## Problem Statement"
   ]
  },
  {
   "cell_type": "markdown",
   "metadata": {},
   "source": [
    "### Description"
   ]
  },
  {
   "cell_type": "markdown",
   "metadata": {},
   "source": [
    "The Liquid Propellant Engine Test Stand (LiqPETS) will initially use a blowdown high pressure feed system to supply Liquid Engine 0 (LE-0 or \"LEO\") with Liquid Oxygen (LOX) and Isopropyl Alcohol (IPA). The goal of this calculation is to determine how many nitrogen tanks are required to supply the test stand with enough pressurant to perform a static-fire (hot fire) of the engine."
   ]
  },
  {
   "cell_type": "markdown",
   "metadata": {},
   "source": [
    "### Given"
   ]
  },
  {
   "cell_type": "markdown",
   "metadata": {},
   "source": [
    "LEO is expected to consume:\n",
    "  * $1.13\\frac{lbm}{s}$ of LOX\n",
    "  * $0.94\\frac{lbm}{s}$ of IPA.\n",
    "  \n",
    "The total volume of the propellant tanks is $4.0gal$ each. \n",
    "\n",
    "The pressure supplied to the LOX side must not be more than $500PSI$\n",
    "\n",
    "The pressure supplied to the IPA tank must not be more than $800PSI$\n",
    "\n",
    "The stand will use standard $300{ft}^3$ $2000PSI$ K-type pressure vessels"
   ]
  },
  {
   "cell_type": "markdown",
   "metadata": {},
   "source": [
    "### Find"
   ]
  },
  {
   "cell_type": "markdown",
   "metadata": {},
   "source": [
    "[_] The pressure losses from the pressure reservoir to the tanks\n",
    "\n",
    "[X] The volume of nitrogen required to maintain driving pressures in both propellant tanks\n",
    "\n",
    "[X] The number of nitrogen bottles required to achieve this"
   ]
  },
  {
   "cell_type": "markdown",
   "metadata": {},
   "source": [
    "### Solution"
   ]
  },
  {
   "cell_type": "markdown",
   "metadata": {},
   "source": [
    "Determine the volume of the K-bottle\n",
    "$$\\frac{P_1}{P_2} = \\frac{\\nu_2}{\\nu_1}$$"
   ]
  },
  {
   "cell_type": "code",
   "execution_count": 3,
   "metadata": {},
   "outputs": [],
   "source": [
    "import numpy\n",
    "from matplotlib import pyplot as plt"
   ]
  },
  {
   "cell_type": "code",
   "execution_count": 4,
   "metadata": {},
   "outputs": [
    {
     "name": "stdout",
     "output_type": "stream",
     "text": [
      "initial gas pressure: 13789.52\n",
      "initial gas volume: 0.04361\n"
     ]
    },
    {
     "data": {
      "text/plain": [
       "[<matplotlib.lines.Line2D at 0x7fb2a15e9bd0>]"
      ]
     },
     "execution_count": 4,
     "metadata": {},
     "output_type": "execute_result"
    },
    {
     "data": {
      "image/png": "[encoded data removed]",
      "text/plain": [
       "<Figure size 432x288 with 1 Axes>"
      ]
     },
     "metadata": {
      "needs_background": "light"
     },
     "output_type": "display_data"
    }
   ],
   "source": [
    "# Volume of gas in the bottle\n",
    "volume_gas = 43.61 #L\n",
    "\n",
    "# Pressure of the gas in the bottle standard\n",
    "pressure_gas = 2000 #PSI\n",
    "\n",
    "# convert to metric\n",
    "volume_gas = volume_gas * 0.001 # L/m3\n",
    "pressure_gas = pressure_gas * 6.89476 #kPa/PSI\n",
    "\n",
    "print(\"initial gas pressure: \" + str(pressure_gas))\n",
    "print(\"initial gas volume: \" + str(volume_gas))\n",
    "\n",
    "# Volume of propellant tanks\n",
    "volume_tanks = 8.0 #gal\n",
    "volume_tanks = volume_tanks / 264.172 # m3 / gal\n",
    "\n",
    "# initial and final volumes\n",
    "quantity_cylinders = numpy.arange(0,10,1)\n",
    "quantity_runs = 3\n",
    "volume_initial = volume_gas * quantity_cylinders\n",
    "volume_final = volume_initial + volume_tanks * quantity_runs\n",
    "\n",
    "# initial and final pressures\n",
    "pressure_initial = pressure_gas # kPa\n",
    "pressure_final = pressure_initial * (volume_initial / volume_final)\n",
    "\n",
    "# return to imperial unitz\n",
    "pressure_final = pressure_final / 6.89476\n",
    "\n",
    "plt.plot(quantity_cylinders, pressure_final)"
   ]
  },
  {
   "cell_type": "code",
   "execution_count": 18,
   "metadata": {},
   "outputs": [
    {
     "name": "stdout",
     "output_type": "stream",
     "text": [
      "# Cyl\tPressure(PSI)\n",
      "  0\t0.0\n",
      "  1\t648.6692275293201\n",
      "  2\t979.6153038473575\n",
      "  3\t1180.3505822112231\n",
      "  4\t1315.0896393671392\n",
      "  5\t1411.784202064303\n",
      "  6\t1484.5540473598394\n",
      "  7\t1541.3010018753293\n",
      "  8\t1586.792252915603\n",
      "  9\t1624.0744839494932\n"
     ]
    }
   ],
   "source": [
    "print('# Cyl\\tPressure(PSI)')\n",
    "for i in numpy.arange(0,len(quantity_cylinders),1):\n",
    "    print ('  ' + str(quantity_cylinders[i]) + '\\t' + str(pressure_final[i]))"
   ]
  },
  {
   "cell_type": "markdown",
   "metadata": {},
   "source": [
    "## Works Cited"
   ]
  },
  {
   "cell_type": "markdown",
   "metadata": {},
   "source": [
    "Cengel - Thermodynamics"
   ]
  }
 ],
 "metadata": {
  "kernelspec": {
   "display_name": "Python 3",
   "language": "python",
   "name": "python3"
  },
  "language_info": {
   "codemirror_mode": {
    "name": "ipython",
    "version": 2
   },
   "file_extension": ".py",
   "mimetype": "text/x-python",
   "name": "python",
   "nbconvert_exporter": "python",
   "pygments_lexer": "ipython2",
   "version": "2.7.15+"
  },
  "toc": {
   "base_numbering": 1,
   "nav_menu": {},
   "number_sections": false,
   "sideBar": true,
   "skip_h1_title": false,
   "title_cell": "Table of Contents",
   "title_sidebar": "Contents",
   "toc_cell": false,
   "toc_position": {},
   "toc_section_display": true,
   "toc_window_display": true
  }
 },
 "nbformat": 4,
 "nbformat_minor": 2
}
