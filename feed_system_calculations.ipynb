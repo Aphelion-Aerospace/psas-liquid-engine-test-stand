{
 "cells": [
  {
   "cell_type": "markdown",
   "metadata": {},
   "source": [
    "# Feed System Calculations\n",
    "### Pressurant Volume\n",
    "Most of the following discussion follows from Huzel & Huang (1992) Ch 5. guidlines on gas-pressurized propellant feed systems. We need a starting place, particularly some assumptions and/pr constraints regarding:\n",
    "* Operating temperatures of feed-system components\n",
    "* Propellant properties at the expected extrema of operating conditions\n",
    "* Tank ullage volume\n",
    "* Trapped-propellant volumes at the end of expulsion\n",
    "* Operating tank pressures\n",
    "* Test campaign duration and engine test firing time\n",
    "\n",
    "The following analysis will also make the following assumptions:\n",
    "* Ullage pressurization occurs slowly, e.g. the pressurant is initally in thermal equilibrium with the tank walls and propellant bulk\n",
    "* Tests are short enough that no heat transfer occurs between tank walls, pressurant and propellant (probably a bad assumption)\n",
    "* The N2 pressurant is insoluble in the isopropynol fuel\n",
    "* (For now) N2 pressurant is insoluble in LOX oxidizer\n",
    "\n",
    "Finally these are the key design requirements:\n",
    "* Sufficient pressurant supply to maintain chamber pressure for a single 60 second burn (but at what pressure?)\n",
    "\n",
    "Initial fill fraction of the propellant tanks will depend of test fire duration, thrust level, and total pressurization time and ambient air temperature among other things. The most conservative estimate is based on the case where an intially full tank (fill fraction is 100%) is completely emptied. If this is the case the pressurant mass required is determined from the equation of state and the isentropic gas equation. Given this ammount of pressurant gas the tank should become empty just as the pressurant supply tank pressure drops to the regulator set point pressure. Some important issues to consider in this analysis are propellant vaporization, and real gass effects."
   ]
  },
  {
   "cell_type": "code",
   "execution_count": 1,
   "metadata": {
    "collapsed": false
   },
   "outputs": [
    {
     "name": "stdout",
     "output_type": "stream",
     "text": [
      "Total required pressurant (for a single burn) = 1.96 m^3\n",
      "Final pressurant temperature (LOX) = 164.29 K\n",
      "Final pressurant temperature (IPA) = 178.81 K\n",
      "Trapped LOX volume = 69.83 m^3\n",
      "Trapped IPA volume = -107.62 m^3\n"
     ]
    }
   ],
   "source": [
    "from math import pi\n",
    "\n",
    "# Constants\n",
    "dia = 0.1 # Tank diameter [m]\n",
    "A = pi * (dia / 2)**2 # Propellant surface area [m^2]\n",
    "V = 2 # Propellant tank volume [m^3]\n",
    "t = 60 # Maximum design burn time [s] \n",
    "y = 1.4 # Pressurant ratio of specific heats (assumed constant)\n",
    "H = 2 # Heat transfer coefficient not really a constant / \n",
    "          # not sure how to calculate yet \n",
    "          #(the number is ok as 1st approx, actual value is a bit bs)\n",
    "p_i = 3500 * 6894 # Pressurant tank initial pressure [Pa]\n",
    "R = 8.3145 # Universal gas constant [Pa*m^3/K*mol]\n",
    "M_g = 28.01/1000 # Nitrogen molar mass [kg/mol]\n",
    "R_g = R / M_g\n",
    "T_i = 293 # Nitrogen initial tank temperature [K]\n",
    "\n",
    "# Propellant properties\n",
    "lox = {'M': 31.999 / 1000, # Molar mass [kg/mol]\n",
    "       'T_e': 90.2, # Propellant temperature [K]\n",
    "       'C_pl': 1.70 * 1000, # Liquid phase specific heat [J/kg*K]\n",
    "       'C_pv': 0.91 * 1000, # Vapor phase secific heat (cosntant pressure) [J/kg*K]\n",
    "       'h_v': 213.05 * 1000, # Heat of vaporization [J/kg]\n",
    "       'T_v': 90.2, # Vaporization temperature [K]\n",
    "       'R_p': R / (31.999 / 1000), # Specific gas constant \n",
    "       'p_t': (350+70) * 1.1 * 6894, # Propellant tank initial pressure [Pa]\n",
    "       'a': 1.382 / 10, # van der Wall constant A [Pa*m^6/mol^2]\n",
    "       'b': 0.03186 / 1000, # van der Wall constant B [m^3/mol]\n",
    "       'name': 'lox'\n",
    "      }\n",
    "\n",
    "ipa = {'M': 60.1 / 1000, # Molar mass [kg/mol]\n",
    "       'T_e': 293, # Propellant temperature [K]\n",
    "       'C_pl': 7.25 * 1000 * (60.1 / 1000), # Liquid phase specific heat [J/kg*K]\n",
    "       'C_pv': 1.75 * 1000, # Vapor phase secific heat (cosntant pressure) [J/kg*K]\n",
    "       'h_v': 36800 * (60.1 / 1000), # Heat of vaporization [J/kg]\n",
    "       'T_v': 355.8, # Vaporization temperature [K]\n",
    "       'R_p': R / (60.1 / 1000), # Specific gas constant \n",
    "       'p_t': ((350 #Chamber pressure [psi]\n",
    "             + 145 # Regen pressure drop [psi]\n",
    "             + 70) # Injector pressure drop [psi]\n",
    "             * 1.1 * 6894), # Propellant tank initial pressure [Pa]\n",
    "       'a': 12.18 / 10, # van der Wall constant A [Pa*m^6/mol^2]\n",
    "       'b': 0.08407 / 1000, # van der Wall constant B [m^3/mol]\n",
    "       'name': 'ipa'\n",
    "      }\n",
    "\n",
    "# Compressibility factor using van der Wall polynomial expansion\n",
    "def Z(fluid, tank, p, T):\n",
    "    if fluid == 'ipa':\n",
    "        a = ipa['a']\n",
    "        b = ipa['b']\n",
    "        M = ipa['M']\n",
    "        #V_m = # Molar volume\n",
    "    elif fluid == 'lox':\n",
    "        a = lox['a']\n",
    "        b = lox['b']\n",
    "        M = lox['M']\n",
    "        #V_m = # Molar volume\n",
    "    elif fluid == 'N2':\n",
    "        a = 0.1370\n",
    "        b = 3.913E-5\n",
    "        M = 28.01 / 1000\n",
    "        #V_m = R * T / p # Molar volume\n",
    "    else:\n",
    "        print(\"There's an issue\")\n",
    "    if tank == 'prop':\n",
    "        #V = # Whatever the propellant tank volume is [m^3]\n",
    "        V_m = R * T / p # Molar volume\n",
    "        return V_m / (V_m - b) - a / (R * T * V_m)\n",
    "    elif tank == 'pres':\n",
    "        V_m = R * T / p # Molar volume\n",
    "        return V_m / (V_m - b) - a / (R * T * V_m)\n",
    "    \n",
    "# A much more realistic approximation\n",
    "def pres_tank_volume(prop):\n",
    "    #print(prop['name'])\n",
    "    T_u = (prop['p_t'] / p_i)**((y - 1) / y) * T_i # Isentropic expansion of pressurant [K]\n",
    "    Q = H * A * t * (T_u-prop['T_e']) # Heat transfer from pressurant gas to propellant vapor [J]\n",
    "    m_v = (Q / (prop['C_pl'] * (prop['T_v'] - prop['T_e']) \n",
    "           + prop['h_v'] + prop['C_pv'] * (T_u - prop['T_v']))) # Mass of vaporized propellant [kg]\n",
    "    V_v = ((m_v * Z(prop['name'], 'prop', prop['p_t'], T_u) \n",
    "           * prop['R_p'] * T_u) / prop['p_t']) # Partial volume of vaporized propellant [m^3]\n",
    "    V_g = V - V_v # Pressurant volume at end of expulsion [m^3]\n",
    "    m_g = ((prop['p_t'] * V_g * Z('N2','pres', prop['p_t'], T_u)) \n",
    "           / (R_g * T_u)) # Required pressurant mass [kg]\n",
    "    V_gtank = (m_g * Z('N2', 'pres', p_i, T_i) \n",
    "               * R_g * T_i) / p_i #Requied pressurant volume (per propellant) [m^3]\n",
    "    return V_gtank, Q, T_u\n",
    "    #might need to solve simult T_u and (do I use N2 partial pressure at end of expulsion in T_u calc?)\n",
    "\n",
    "sf = 2 # Safety factor\n",
    "total_volume = (pres_tank_volume(lox)[0] + pres_tank_volume(ipa)[0]) * sf\n",
    "\n",
    "print('Total required pressurant (for a single burn) = {0:.2f} m^3'.format(total_volume))\n",
    "print('Final pressurant temperature (LOX) = {0:.2f} K'.format(pres_tank_volume(lox)[2]))\n",
    "print('Final pressurant temperature (IPA) = {0:.2f} K'.format(pres_tank_volume(ipa)[2]))\n",
    "print('Trapped LOX volume = {0:.2f} m^3'.format(pres_tank_volume(lox)[1]))\n",
    "print('Trapped IPA volume = {0:.2f} m^3'.format(pres_tank_volume(ipa)[1]))"
   ]
  },
  {
   "cell_type": "markdown",
   "metadata": {
    "collapsed": true
   },
   "source": [
    "### Valve Sizing\n",
    "words words."
   ]
  },
  {
   "cell_type": "markdown",
   "metadata": {
    "collapsed": true
   },
   "source": [
    "### Valve Response\n",
    "This is essential a summary of points made in NASA SP-8097 (Liquid Rocket Valve Assemblies).\n",
    "\n",
    "Valve response time is defined as the total time elapsed from recipt of of an actuation signal to the time where the valve is either fully opened or fully closed. Various factors impact the valve timing:\n",
    "\n",
    "* Dynamic forces acting on the valve element and balancing chambers (e.g.)\n",
    "* Friction forces from bearings/shaft seals/lip seals, etc.\n",
    "* Displacement of fluid from balance chambers\n",
    "* Inertia of moving parts\n",
    "* Length or required actuator stroke\n",
    "* Spring rates of installed springs and bellows (where pertinant)\n",
    "\n",
    "Some further considerations follow.\n",
    "\n",
    "#### Pneumatics\n",
    "Factors that affect response time of pneumatic actuators include flow capacity of the control valving, line sizes, initial total volume, and actuator swept volume. Another issue it the current thermodynamic state of the prussurant in the case were it is the same as main propellant pressurization gas (as in our design). Obviously near the end of a burn the regulated pressure supplied to the piston will be different than during the intial actuation due to the mostly-isentropic expansion of the pressurant gasses. Any other pressure transient that propagate up to the actuator taps will also affect their response time.\n",
    "\n",
    "#### Friction\n",
    "\n",
    "\n"
   ]
  },
  {
   "cell_type": "code",
   "execution_count": null,
   "metadata": {
    "collapsed": true
   },
   "outputs": [],
   "source": []
  }
 ],
 "metadata": {
  "kernelspec": {
   "display_name": "Python 3",
   "language": "python",
   "name": "python3"
  },
  "language_info": {
   "codemirror_mode": {
    "name": "ipython",
    "version": 3
   },
   "file_extension": ".py",
   "mimetype": "text/x-python",
   "name": "python",
   "nbconvert_exporter": "python",
   "pygments_lexer": "ipython3",
   "version": "3.5.1"
  }
 },
 "nbformat": 4,
 "nbformat_minor": 0
}
