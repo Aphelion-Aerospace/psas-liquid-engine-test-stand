{
 "cells": [
  {
   "cell_type": "markdown",
   "metadata": {},
   "source": [
    "# <center>Science / Data Acquisition</center>\n",
    "### <center>(Very very rough)</center>\n",
    "\n",
    "\n",
    "## Sensors / data collection methods\n",
    "\n",
    "### Engine Load Cells\n",
    "\n",
    "\n",
    "### Thermo Couples\n",
    "   - #### LOX Tank\n",
    "   - #### Engine Temp\n",
    "   \n",
    "   \n",
    "### Pressure Transducers\n",
    "   - #### N$_2$ inlet pressure\n",
    "   - #### Igniter Pressure\n",
    "   - #### Chamber pressure\n",
    "   - #### LOX Tank pressure\n",
    "   - #### Fuel Tank pressure\n",
    "   \n",
    "### Flow Meter / Venturi (?)\n",
    "   - #### LOX Line\n",
    "   - #### Fuel Line\n",
    "\n",
    "\n",
    "\n",
    "## Science / Data [Direct measure (DM) & Calculated(C)]\n",
    "\n",
    "### Engine Thrust (DM)\n",
    "\n",
    "### Mass Flow Rate (DM + C)\n",
    "  - #### LOX Mass Flow Rate\n",
    "  - #### Fuel Mass Flow Rate\n",
    "\n",
    "### Specific Impuls (C)\n",
    "  \n",
    "### Chamber Pressure (DM)\n",
    "\n",
    "### Engine Temp (DM)\n"
   ]
  },
  {
   "cell_type": "code",
   "execution_count": null,
   "metadata": {
    "collapsed": true
   },
   "outputs": [],
   "source": [
    "\n"
   ]
  }
 ],
 "metadata": {
  "kernelspec": {
   "display_name": "Python 3",
   "language": "python",
   "name": "python3"
  },
  "language_info": {
   "codemirror_mode": {
    "name": "ipython",
    "version": 3
   },
   "file_extension": ".py",
   "mimetype": "text/x-python",
   "name": "python",
   "nbconvert_exporter": "python",
   "pygments_lexer": "ipython3",
   "version": "3.6.3"
  }
 },
 "nbformat": 4,
 "nbformat_minor": 2
}
