{
 "cells": [
  {
   "cell_type": "markdown",
   "metadata": {},
   "source": [
    "# Pressurant Diffuser\n",
    "## Portland State Aerospace Society\n",
    "### Liquid Propellant Test Stand (LiqPETS)\n"
   ]
  },
  {
   "cell_type": "markdown",
   "metadata": {},
   "source": [
    "### Problem"
   ]
  },
  {
   "cell_type": "markdown",
   "metadata": {},
   "source": [
    "The high pressure Nitrogen (N2) fed to the Liquid Oxygen (LOX) and Isopropyl Alcohol(IPA) enters the tanks at high speed on pressurization. Gas at high velocity may impoinge the surface of the liquid and form sub-surface bubbles of nitrogen. A second issue with LOX is the diffusion rate of nitrogen into LOX. This could result in a lower concentration of oxygen and subsequently a lower combustion efficiency."
   ]
  },
  {
   "cell_type": "markdown",
   "metadata": {},
   "source": [
    "#### Given"
   ]
  },
  {
   "cell_type": "markdown",
   "metadata": {},
   "source": [
    "* Maximum Feed Pressures\n",
    "  * LOX - 500 PSI\n",
    "  * IPA - 800 PSI\n",
    "  * N2 - 2000 PSI *(Unregulated)*\n",
    "* Dimensions\n",
    "  * Inlet tube diameter $1/2$ inch"
   ]
  },
  {
   "cell_type": "markdown",
   "metadata": {},
   "source": [
    "#### Find"
   ]
  },
  {
   "cell_type": "markdown",
   "metadata": {},
   "source": [
    "#### Solution"
   ]
  },
  {
   "cell_type": "markdown",
   "metadata": {},
   "source": [
    "$$\\frac{dB}{dt} = \\frac{\\partial}{\\partial t}\\int_{cv}\\rho b \\:d\\forall{} + \\frac{\\partial}{\\partial t}\\int_{cs}\\rho b \\boldsymbol{V} \\cdot \\hat{n} \\:dA$$\n",
    "lends itself to the notion that where $d\\forall = 0$ and $\\frac{dB}{dt} = 0$, \n",
    "\n",
    "$$\\sum_{i}^{n}\\bigg[\\frac{\\partial}{\\partial t}\\int_{cs}\\rho b \\: \\big(\\boldsymbol{V} \\cdot \\hat{n}\\big)_i \\:dA \\bigg] = 0$$\n",
    "\n",
    "For this analysis, the extant property will be mass which will result in a return dimension of velocity."
   ]
  },
  {
   "cell_type": "code",
   "execution_count": 2,
   "metadata": {},
   "outputs": [],
   "source": [
    "import numpy\n",
    "\n",
    "\"\"\"\n",
    "Conversion Factors\n",
    "\"\"\"\n",
    "\n",
    "# flowrate_mass_LOX = 1.13 # kg/s\n",
    "# flowrate_volume_LOX = flowrate_mass_LOX / density_LOX\n",
    "# flowrate_volume_LOX / area_entrance\n",
    "\n",
    "constant_gas_nitrogen = 2.968e2  # J/kg*K\n",
    "constant_k_nitrogen = 1.4\n",
    "constant_viscosity_nitrogen = 1.76e-5\n",
    "temperature = 300 # K\n",
    "\n",
    "# Metrics\n",
    "\n",
    "diameter_entrance = (4/16) * (2.54/100) # meters\n",
    "diameter_exit = 3/32 * 2.54 / 100    # meters\n",
    "diameter_inside_thread = 0.5 * 0.0254 # meters\n",
    "\n",
    "area_entrance = 1/4 * numpy.pi * diameter_entrance ** 2\n",
    "area_exit = 1/4 * numpy.pi * diameter_exit**2\n",
    "\n",
    "length_exit_max = (diameter_inside_thread - diameter_entrance) / 2\n",
    "\n",
    "velocity_exit = 0       # m/s\n",
    "velocity_sound_nitrogen = numpy.sqrt(constant_gas_nitrogen * constant_k_nitrogen * temperature)\n",
    "reynolds_desired =  length_exit_max / (0.06 * diameter_exit)# laminar values are <=2100 , will not be developed. Munson 416\n",
    "\n",
    "pressure_std = 14.7     # psi\n",
    "pressure_feed_LOX = 500 # LOX side feed pressure psi\n",
    "pressure_feed_IPA = 800 # IPA side feed pressure psi\n"
   ]
  },
  {
   "cell_type": "code",
   "execution_count": 8,
   "metadata": {},
   "outputs": [
    {
     "name": "stdout",
     "output_type": "stream",
     "text": [
      "0.125\n",
      "22.22\n"
     ]
    }
   ],
   "source": [
    "print(length_exit_max * 100 / 2.54)\n",
    "print(str(round(reynolds_desired,2)))"
   ]
  },
  {
   "cell_type": "code",
   "execution_count": 7,
   "metadata": {},
   "outputs": [
    {
     "data": {
      "text/plain": [
       "25.03"
      ]
     },
     "execution_count": 7,
     "metadata": {},
     "output_type": "execute_result"
    }
   ],
   "source": [
    "density_nitrogen = 1.14e0 * pressure_feed_LOX / pressure_std\n",
    "\n",
    "velocity_exit = 2*(pressure_feed_LOX - pressure_std)/density_nitrogen\n",
    "\n",
    "round(velocity_exit,2)"
   ]
  },
  {
   "cell_type": "markdown",
   "metadata": {},
   "source": [
    "The model used in this notebook relys on three distinct models. The first model, the inlet, uses an orifice to choke the maximum flow and has two control surfaces. The second type of section models the intermediate steps with a control surface on either end of the cylinder and radially symmetric control surfaces as a row inbetween. The last section is the end of the diffuser and only considers one end control surface and the radial exits at the end. The general stacking is as such:\n",
    "\n",
    "inlet -> intermediate -> intermediate -> intermediate -> end"
   ]
  },
  {
   "cell_type": "markdown",
   "metadata": {},
   "source": [
    "#### Model for the inlet section:"
   ]
  },
  {
   "cell_type": "markdown",
   "metadata": {},
   "source": [
    "$$\\frac{\\partial}{\\partial t}\\int_{cs}\\rho b \\: \\big(\\boldsymbol{V_{in}} \\cdot \\hat{n}_{in}\\big) \\:dA_{in}=\\frac{\\partial}{\\partial t}\\int_{cs}\\rho b \\: \\big(\\boldsymbol{V_{out}} \\cdot \\hat{n}_{out}\\big) \\:dA_{out}$$\n",
    "\n",
    "Where:\n",
    "$\\hat{V} = \\hat{n}$\n",
    "\n",
    "$A_{in} = \\frac{\\pi}{4}D_{in}^{2}$\n",
    "\n",
    "$A_{out} = \\frac{\\pi}{4}D_{out}^{2}$\n",
    "\n",
    "$V_{in} = f\\big(P_{feed}, P_{tank}\\big)$\n",
    "\n",
    "$\\rho = $ density of nitrogen\n",
    "\n",
    "$B = $ mass, $b = 1$."
   ]
  },
  {
   "cell_type": "markdown",
   "metadata": {},
   "source": [
    "This function reduces to:\n",
    "\n",
    "$$\\frac{\\partial}{\\partial t}\\big(\\rho b A_{in} \\: \\boldsymbol{V}_{in}\\big)=\\frac{\\partial}{\\partial t}\\big(\\rho b A_{out}\\boldsymbol{V}_{out}\\big)$$"
   ]
  },
  {
   "cell_type": "markdown",
   "metadata": {},
   "source": [
    "Since $\\dot{m}_{in} = \\dot{m}_{out}$, we can rely on compressible flow, $\\frac{P_{in}}{\\rho_{in}^k} = \\frac{P_{out}}{\\rho_{out}^k}$\n",
    "\n",
    "$$$$"
   ]
  },
  {
   "cell_type": "markdown",
   "metadata": {},
   "source": [
    "#### Model for Intermediate Section"
   ]
  },
  {
   "cell_type": "markdown",
   "metadata": {},
   "source": [
    "$$\\frac{\\partial}{\\partial t}\\int_{cs}\\rho b \\: \\big(\\boldsymbol{V_{in}} \\cdot \\hat{n}_{in}\\big) \\:dA_{in}=\\frac{\\partial}{\\partial t}\\int_{cs}\\rho b \\: \\big(\\boldsymbol{V_{out}} \\cdot \\hat{n}_{out}\\big) \\:dA_{out} + N\\cdot\\frac{\\partial}{\\partial t}\\int_{cs}\\rho b \\: \\big(\\boldsymbol{V_{rad}} \\cdot \\hat{n}_{rad}\\big) \\:dA_{rad}$$\n",
    "\n",
    "Where:\n",
    "$\\hat{V} = \\hat{n}$\n",
    "\n",
    "$A_{in} = \\frac{\\pi}{4}D_{out}^{2}$\n",
    "\n",
    "$A_{out} = A_{in}$\n",
    "\n",
    "$V_{in} = V_{out,\\;n-1}$\n",
    "\n",
    "$\\rho = $ density of nitrogen\n",
    "\n",
    "$B = $ mass, $b = 1$.\n",
    "\n",
    "Since the radial holes will be designed to achieve steady flow, \n",
    "$\\hat{V}_{rad} = \\hat{n}_{rad}$"
   ]
  },
  {
   "cell_type": "markdown",
   "metadata": {},
   "source": [
    "#### Model for End Section"
   ]
  },
  {
   "cell_type": "markdown",
   "metadata": {},
   "source": [
    "$$\\frac{\\partial}{\\partial t}\\int_{cs}\\rho b \\: \\big(\\boldsymbol{V_{in}} \\cdot \\hat{n}_{in}\\big) \\:dA_{in}=N\\cdot\\frac{\\partial}{\\partial t}\\int_{cs}\\rho b \\: \\big(\\boldsymbol{V_{rad}} \\cdot \\hat{n}_{rad}\\big) \\:dA_{rad}$$\n",
    "\n",
    "Where:\n",
    "$\\hat{V} = \\hat{n}$\n",
    "\n",
    "$A_{in} = \\frac{\\pi}{4}D_{out}^{2}$\n",
    "\n",
    "$V_{in} = V_{out,\\;n-1}$\n",
    "\n",
    "$\\rho = $ density of nitrogen\n",
    "\n",
    "$B = $ mass, $b = 1$.\n",
    "\n",
    "Since the radial holes will be designed to achieve steady flow, \n",
    "$\\hat{V}_{rad} = \\hat{n}_{rad}$"
   ]
  },
  {
   "cell_type": "code",
   "execution_count": null,
   "metadata": {},
   "outputs": [],
   "source": []
  },
  {
   "cell_type": "markdown",
   "metadata": {},
   "source": [
    "[Collection of diffuser calcs, also found in cengel and munson](https://www.grc.nasa.gov/www/k-12/airplane/isentrop.html)\n"
   ]
  }
 ],
 "metadata": {
  "kernelspec": {
   "display_name": "Python 3",
   "language": "python",
   "name": "python3"
  },
  "language_info": {
   "codemirror_mode": {
    "name": "ipython",
    "version": 3
   },
   "file_extension": ".py",
   "mimetype": "text/x-python",
   "name": "python",
   "nbconvert_exporter": "python",
   "pygments_lexer": "ipython3",
   "version": "3.6.7"
  }
 },
 "nbformat": 4,
 "nbformat_minor": 2
}
