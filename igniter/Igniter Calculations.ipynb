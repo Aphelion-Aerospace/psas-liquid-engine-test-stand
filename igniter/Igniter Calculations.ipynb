{
 "cells": [
  {
   "cell_type": "markdown",
   "metadata": {},
   "source": [
    "Please note September 19th entery in [LFETS Meating Notes](https://docs.google.com/document/d/1l_8dlIdJznsHb7cQ9t38HIvYR_ec9fbx6pr6vHvQvJs/edit?usp=sharing)\n",
    "\n",
    "\n",
    "\n",
    "\n",
    "Numbers:\n",
    "- Mixture ratio 1.2-1.4 approx. 1.3 O/F [Rocket Moonlighting](http://www.rocketmoonlighting.com/projects/pr56-igniter)\n",
    "- Thrust 1.1 lbsf - Taken from [Roberts](http://www.watzlavick.com/robert/rocket/news/2011.html) rocket Project\n",
    "- Bob's injector mass flow rate is $0.008 \\frac{lb}{sec}$\n",
    "- Chamber pressure 135 psig (NTM)\n",
    "\n",
    "See Huzel & Huang for\n",
    "\n",
    "Mass Flow Rate:\n",
    "*$\\dot{m}\\approx0.005\\dot{m}_{main}$  (Pg 9, 140)\n",
    "\n",
    "LFRE Design documentation: \n",
    "- Mass flow rate $ \\dot{m} = 2.06 \\frac{lbm}{s}$\n",
    " - $\\therefore \\ \\ \\dot{m}_{igniter} = (2.06 * .005)\\frac{lbm}{s} = 0.0103 \\frac{lbm}{s} $\n",
    "\n",
    "\n",
    "Exit Velocity:\n",
    "$V_{e} = \\sqrt{\\frac{2g\\gamma}{\\gamma-1}RT_{c_{ns}}\\bigg[1-\\bigg(\\frac{P_{e}}{P_{c_{ns}}}\\bigg)\\bigg]^\\frac{\\gamma-1}{\\gamma}} $  (HH Pg. 9)\n",
    "\n",
    "\n",
    "*Note that $\\dot{w}$ is split between propellants based on mixture ratio\n",
    "\n",
    "References:\n",
    "\n",
    "(HH)\n",
    "- Modern Engineering for Design of Liquid-Propellant Rocket Engines, Huzel & Huang\n",
    "\n",
    "(NTM)\n",
    "- NASA Technical Memorandum 106493 - Hydrogen-Oxygen Torch Igniter\n",
    "\n",
    "\n"
   ]
  },
  {
   "cell_type": "markdown",
   "metadata": {},
   "source": [
    "# Data Used for calculations\n",
    "\n",
    "[Isopropanol](http://www.chemicalbook.com/ChemicalProductProperty_EN_CB8854102.htm) density $\\rho_{ipa} = 786 \\frac{kg}{m^3} \\ \\rightarrow \\ 49.068 \\frac{lbm}{ft^3} $\n",
    "\n",
    "Water density $ = \\rho _{h20} = 62.3 \\frac{lbm}{ft^3}$\n",
    "\n",
    "$\\dot{m}_{igniter} = 0.0103 \\frac{lbm}{s} $\n",
    "\n",
    "Chamber pressure $ = 135 \\ psig $\n"
   ]
  },
  {
   "cell_type": "code",
   "execution_count": 13,
   "metadata": {
    "scrolled": true
   },
   "outputs": [
    {
     "name": "stdout",
     "output_type": "stream",
     "text": [
      "70 percent IPA Fuel density,   rhof    = 53.04 lbm/ft^3\n",
      "Fuel Specific Gravity,         sgf     = 0.85 \n",
      "Oxygen Fuel Ratio,             of      = 0.78 lbm/sec\n",
      "Total Igniter mass flow rate,  mdot    = 0.0103 lbm/sec\n",
      "Igniter Fuel mass flow rate,   iffr    = 0.0058 lbm/sec\n",
      "Igniter Oxygen mass flow rate, iofr    = 0.0045 lbm/sec\n",
      "Igniter Chamber Pressure,      icp     = 135.00 psig\n",
      "Flow Area                      area1_8 = 8.52e-05 ft^2\n",
      "Fuel Flow Velocity,            vff     = 1.28 ft/sec\n",
      "Fuel flow rate in gpm          qgpm    = 0.0491 gpm\n"
     ]
    }
   ],
   "source": [
    "import math\n",
    "from mpmath import *\n",
    "\n",
    "#Define Constants\n",
    "g     = 32.2  # gravitational constant in ft/s^2\n",
    "\n",
    "#initial inputs\n",
    "rhoipa  = 49.068    # Density of IPA in (lbm/ft^3)\n",
    "rhoh20  = 62.30     # Density of water in (lbm/ft^3)\n",
    "ofr     = 0.9       # Engine oxygen flow rate in (lbm/s)\n",
    "ffr     = 1.16      # Engine Fuel flow rate in (lbm/s)\n",
    "igff    = .005      # percent of main engine flow %\n",
    "mdot    = 0.0103    # Mass flow rate ing (lbm/s)\n",
    "icp     = 135       # Igniter Chamber pressure (psi)\n",
    "tube1_8 = 0.125     # 1/8th in Tube diameter (in)\n",
    "\n",
    "\n",
    "# initial calculated values for equations:\n",
    "\n",
    "iofr = igff * ofr   # Oxygen mass flow rate into igniter (lbm/s)s\n",
    "iffr = igff * ffr   # Fuel mass flow rate into igniter (lbm/s)\n",
    "rhof = (.3 * rhoh20) + (.7 * rhoipa) # density of Fuel in lbm/ft^3\n",
    "of = ofr / ffr # O/F ratio in lbm/s\n",
    "area1_8 = (tube1_8 /24)**2 * pi() # in ft^2 \n",
    "vff = iffr / (rhof * area) #Fuel flow velocity (ft/s)\n",
    "sgf = rhof / rhoh20 # specific gravity\n",
    "vffr = 1 / rhoF * IFfr * 60 #convert to per min, units of ft^3 / min\n",
    "qgpm = vffr * 7.48052 # convert ft^3 to US Gallons\n",
    "\n",
    "print(\"70 percent IPA Fuel density,   rhof    = %.2f lbm/ft^3\" % rhof)\n",
    "print(\"Fuel Specific Gravity,         sgf     = %.2f \" %sgf)\n",
    "print(\"Oxygen Fuel Ratio,             of      = %.2f lbm/sec\" % of)\n",
    "print(\"Total Igniter mass flow rate,  mdot    = %.4f lbm/sec\" % mdot)\n",
    "print(\"Igniter Fuel mass flow rate,   iffr    = %.4f lbm/sec\" % iffr)\n",
    "print(\"Igniter Oxygen mass flow rate, iofr    = %.4f lbm/sec\" % iofr)\n",
    "print(\"Igniter Chamber Pressure,      icp     = %.2f psig\" % icp)\n",
    "print(\"1/8th in tube Flow Area        area1_8 = %.2e ft^2\" % area1_8)\n",
    "print(\"Fuel Flow Velocity,            vff     = %.2f ft/sec\" % vff)\n",
    "print(\"Fuel flow rate in gpm          qgpm    = %.4f gpm\" %qgpm)\n"
   ]
  },
  {
   "cell_type": "markdown",
   "metadata": {
    "collapsed": true
   },
   "source": [
    "## Pressure Drop\n",
    "\n",
    "### Governing equation:\n",
    "\n",
    "$P_1 = P_2 + \\gamma z_2 + \\frac{1}{2}\\rho(V^2_2 -V^2_1)+\\gamma h_L$\n",
    "\n",
    "### Assumptions for igniter calculations:\n",
    "\n",
    "Zero elevation change, so pressure head can be neglected $\\therefore \\rightarrow \\gamma z_2 = 0$  \n",
    "\n",
    "Fluid initially at rest $\\therefore \\rightarrow V^2_1 = 0$\n",
    "\n",
    "Very short lenghts of tube, $\\therefore$ Major Losses $= \\ 0$\n",
    "\n",
    "Minor losses $h_L = \\sum K_L \\frac{V^2}{2g}$\n",
    "\n",
    "Mass Flow Rate $\\dot{m} = \\rho Q = \\rho AV $ units in$ \\frac{[slug]}{[s]}$ or $\\frac{[kg]}{[s]}$\n",
    "- where $Q$ is volume flow rate in $\\frac{ft^3}{s}$ or $\\frac{ft^3}{s}$ \n",
    "\n",
    "\n",
    "### Working equation:\n",
    "\n",
    "$P_1 = P_2 + \\frac{1}{2} \\rho (V^2_2) \\ + \\ \\frac{1}{2} \\rho V^2 \\sum K_L$\n",
    "\n"
   ]
  },
  {
   "cell_type": "code",
   "execution_count": 11,
   "metadata": {},
   "outputs": [
    {
     "name": "stdout",
     "output_type": "stream",
     "text": [
      "Pressure drop fuel Solinoid,      Pdrop1 = 1.0128 psi\n",
      "Desired orifice pressure drop,    dpd    = 100 psi\n",
      "Required Cv for pressure drop,    cv0    = 0.0045 \n"
     ]
    }
   ],
   "source": [
    "# Need to input the KL variables prior to solving for inlet pressure. \n",
    "\n",
    "#1/8 in solinoid\n",
    "\n",
    "cv1 = 0.045        #GPM take from Valve data sheet\n",
    "\n",
    "#Calculations\n",
    "pdrop1 = sgf * (qgpm / cv1)**2\n",
    "\n",
    "#print(\"Flow Rate through Solinoid 1,   Qgpm = %.4f gpm\" % Qgpm)\n",
    "print(\"Pressure drop fuel Solinoid,      Pdrop1 = %.4f psi\" % Pdrop1)\n",
    "\n",
    "# Attempt to find Cv for orifice\n",
    "\n",
    "dpd = 100 # Desired pressure drop accross fuel orifice (psi)\n",
    "\n",
    "cv0 = qgpm * sqrt(sgf/dpd)\n",
    "\n",
    "print(\"Desired orifice pressure drop,    dpd    = %.0f psi\" % dpd)\n",
    "print(\"Required Cv for pressure drop,    cv0    = %.4f \" % cv0)\n"
   ]
  },
  {
   "cell_type": "code",
   "execution_count": 6,
   "metadata": {
    "collapsed": true
   },
   "outputs": [],
   "source": [
    "import sympy as sympy\n",
    "from sympy.solvers import solve\n",
    "from sympy import Symbol\n",
    "\n"
   ]
  },
  {
   "cell_type": "code",
   "execution_count": null,
   "metadata": {
    "collapsed": true
   },
   "outputs": [],
   "source": []
  },
  {
   "cell_type": "code",
   "execution_count": null,
   "metadata": {
    "collapsed": true
   },
   "outputs": [],
   "source": []
  },
  {
   "cell_type": "code",
   "execution_count": null,
   "metadata": {
    "collapsed": true
   },
   "outputs": [],
   "source": []
  }
 ],
 "metadata": {
  "kernelspec": {
   "display_name": "Python 3",
   "language": "python",
   "name": "python3"
  },
  "language_info": {
   "codemirror_mode": {
    "name": "ipython",
    "version": 3
   },
   "file_extension": ".py",
   "mimetype": "text/x-python",
   "name": "python",
   "nbconvert_exporter": "python",
   "pygments_lexer": "ipython3",
   "version": "3.6.1"
  }
 },
 "nbformat": 4,
 "nbformat_minor": 2
}
