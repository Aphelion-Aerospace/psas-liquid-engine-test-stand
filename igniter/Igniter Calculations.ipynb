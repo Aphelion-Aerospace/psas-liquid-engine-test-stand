{
 "cells": [
  {
   "cell_type": "markdown",
   "metadata": {},
   "source": [
    "Please note September 19th entery in [LFETS Meating Notes](https://docs.google.com/document/d/1l_8dlIdJznsHb7cQ9t38HIvYR_ec9fbx6pr6vHvQvJs/edit?usp=sharing)\n",
    "\n",
    "\n",
    "\n",
    "\n",
    "Numbers:\n",
    "- Mixture ratio 1.2-1.4 approx. 1.3 O/F [Rocket Moonlighting](http://www.rocketmoonlighting.com/projects/pr56-igniter)\n",
    "- Thrust 1.1 lbsf - Taken from [Roberts](http://www.watzlavick.com/robert/rocket/news/2011.html) rocket Project\n",
    "- Bob's injector mass flow rate is $0.008 \\frac{lb}{sec}$\n",
    "- Chamber pressure 135 psig (NTM)\n",
    "\n",
    "See Huzel & Huang for\n",
    "\n",
    "Mass Flow Rate:\n",
    "*$\\dot{m}\\approx0.005\\dot{m}_{main}$  (Pg 9, 140)\n",
    "\n",
    "LFRE Design documentation: \n",
    "- Mass flow rate $ \\dot{m} = 2.06 \\frac{lbm}{s}$\n",
    " - $\\therefore \\ \\ \\dot{m}_{igniter} = (2.06 * .005)\\frac{lbm}{s} = 0.0103 \\frac{lbm}{s} $\n",
    "\n",
    "\n",
    "Exit Velocity:\n",
    "$V_{e} = \\sqrt{\\frac{2g\\gamma}{\\gamma-1}RT_{c_{ns}}\\bigg[1-\\bigg(\\frac{P_{e}}{P_{c_{ns}}}\\bigg)\\bigg]^\\frac{\\gamma-1}{\\gamma}} $  (HH Pg. 9)\n",
    "\n",
    "\n",
    "*Note that $\\dot{w}$ is split between propellants based on mixture ratio\n",
    "\n",
    "References:\n",
    "\n",
    "(HH)\n",
    "- Modern Engineering for Design of Liquid-Propellant Rocket Engines, Huzel & Huang\n",
    "\n",
    "(NTM)\n",
    "- NASA Technical Memorandum 106493 - Hydrogen-Oxygen Torch Igniter\n",
    "\n",
    "\n"
   ]
  },
  {
   "cell_type": "markdown",
   "metadata": {},
   "source": [
    "# Data Used for calculations\n",
    "\n",
    "[Isopropanol](http://www.chemicalbook.com/ChemicalProductProperty_EN_CB8854102.htm) density $\\rho_{ipa} = 786 \\frac{kg}{m^3} \\ \\rightarrow \\ 49.068 \\frac{lbm}{ft^3} $\n",
    "\n",
    "Water density $ = \\rho _{h20} = 62.3 \\frac{lbm}{ft^3}$\n",
    "\n",
    "$\\dot{m}_{igniter} = 0.0103 \\frac{lbm}{s} $\n",
    "\n",
    "Chamber pressure $ = 135 \\ psig $\n"
   ]
  },
  {
   "cell_type": "code",
   "execution_count": 10,
   "metadata": {
    "scrolled": true
   },
   "outputs": [
    {
     "name": "stdout",
     "output_type": "stream",
     "text": [
      "70 percent IPA Fuel density,   rhoF = 53.04 lbm/ft^3\n",
      "Fuel Specific Gravity,         SGF  = 0.85 \n",
      "Oxygen Fuel Ratio,             OF   = 0.78 lbm/sec\n",
      "Total Igniter mass flow rate,  mdot = 0.0103 lbm/sec\n",
      "Igniter Fuel mass flow rate,   IFfr = 0.0058 lbm/sec\n",
      "Igniter Oxygen mass flow rate, IOfr = 0.0045 lbm/sec\n",
      "Igniter Chamber Pressure,      ICP  = 135.00 psig\n",
      "Flow Area                      Area = 8.52e-05 ft^2\n",
      "Fuel Flow Velocity,            Vff  = 1.28 ft/sec\n",
      "Fuel flow rate in gpm          Qgpm = 0.0491 gpm\n"
     ]
    }
   ],
   "source": [
    "import math\n",
    "from mpmath import *\n",
    "\n",
    "#Define Constants\n",
    "g     = 32.2  # gravitational constant in ft/s^2\n",
    "\n",
    "#initial inputs\n",
    "rhoipa  = 49.068    # Density of IPA in (lbm/ft^3)\n",
    "rhoh20  = 62.30     # Density of water in (lbm/ft^3)\n",
    "Ofr     = 0.9       # Engine oxygen flow rate in (lbm/s)\n",
    "Ffr     = 1.16      # Engine Fuel flow rate in (lbm/s)\n",
    "Igff    = .005      # percent of main engine flow %\n",
    "mdot    = 0.0103    # Mass flow rate ing (lbm/s)\n",
    "ICP     = 135       # Igniter Chamber pressure (psi)\n",
    "TD1     = 0.125     # 1/8th in Tube diameter (in)\n",
    "\n",
    "\n",
    "# initial calculated values for equations:\n",
    "\n",
    "IOfr = Igff * Ofr   # Oxygen mass flow rate into igniter (lbm/s)s\n",
    "IFfr = Igff * Ffr   # Fuel mass flow rate into igniter (lbm/s)\n",
    "rhoF = (.3 * rhoh20) + (.7 * rhoipa) # density of Fuel in lbm/ft^3\n",
    "OF = Ofr / Ffr # O/F ratio in lbm/s\n",
    "Area = (TD1 /24)**2 * pi() # in ft^2 \n",
    "Vff = IFfr / (rhoF * Area) #Fuel flow velocity (ft/s)\n",
    "SGF = rhoF / rhoh20 # specific gravity\n",
    "VFfr = 1 / rhoF * IFfr * 60 #convert to per min, units of ft^3 / min\n",
    "Qgpm = VFfr * 7.48052 # convert ft^3 to US Gallons\n",
    "\n",
    "print(\"70 percent IPA Fuel density,   rhoF = %.2f lbm/ft^3\" % rhoF)\n",
    "print(\"Fuel Specific Gravity,         SGF  = %.2f \" %SGF)\n",
    "print(\"Oxygen Fuel Ratio,             OF   = %.2f lbm/sec\" % OF)\n",
    "print(\"Total Igniter mass flow rate,  mdot = %.4f lbm/sec\" % mdot)\n",
    "print(\"Igniter Fuel mass flow rate,   IFfr = %.4f lbm/sec\" % IFfr)\n",
    "print(\"Igniter Oxygen mass flow rate, IOfr = %.4f lbm/sec\" % IOfr)\n",
    "print(\"Igniter Chamber Pressure,      ICP  = %.2f psig\" % ICP)\n",
    "print(\"Flow Area                      Area = %.2e ft^2\" % Area)\n",
    "print(\"Fuel Flow Velocity,            Vff  = %.2f ft/sec\" % Vff)\n",
    "print(\"Fuel flow rate in gpm          Qgpm = %.4f gpm\" %Qgpm)\n"
   ]
  },
  {
   "cell_type": "markdown",
   "metadata": {
    "collapsed": true
   },
   "source": [
    "## Pressure Drop\n",
    "\n",
    "### Governing equation:\n",
    "\n",
    "$P_1 = P_2 + \\gamma z_2 + \\frac{1}{2}\\rho(V^2_2 -V^2_1)+\\gamma h_L$\n",
    "\n",
    "### Assumptions for igniter calculations:\n",
    "\n",
    "Zero elevation change, so pressure head can be neglected $\\therefore \\rightarrow \\gamma z_2 = 0$  \n",
    "\n",
    "Fluid initially at rest $\\therefore \\rightarrow V^2_1 = 0$\n",
    "\n",
    "Very short lenghts of tube, $\\therefore$ Major Losses $= \\ 0$\n",
    "\n",
    "Minor losses $h_L = \\sum K_L \\frac{V^2}{2g}$\n",
    "\n",
    "Mass Flow Rate $\\dot{m} = \\rho Q = \\rho AV $ units in$ \\frac{[slug]}{[s]}$ or $\\frac{[kg]}{[s]}$\n",
    "- where $Q$ is volume flow rate in $\\frac{ft^3}{s}$ or $\\frac{ft^3}{s}$ \n",
    "\n",
    "\n",
    "### Working equation:\n",
    "\n",
    "$P_1 = P_2 + \\frac{1}{2} \\rho (V^2_2) \\ + \\ \\frac{1}{2} \\rho V^2 \\sum K_L$\n",
    "\n"
   ]
  },
  {
   "cell_type": "code",
   "execution_count": 25,
   "metadata": {},
   "outputs": [
    {
     "name": "stdout",
     "output_type": "stream",
     "text": [
      "Pressure drop fuel Solinoid,      Pdrop1 = 1.0128 psi\n",
      "Desired orifice pressure drop,    PDF    = 600 psi\n",
      "Required Cv for pressure drop,    CvO    = 0.0018 \n"
     ]
    }
   ],
   "source": [
    "# Need to input the KL variables prior to solving for inlet pressure. \n",
    "\n",
    "#1/8 in solinoid\n",
    "\n",
    "Cv1 = 0.045        #GPM take from Valve data sheet\n",
    "\n",
    "#Calculations\n",
    "Pdrop1 = SGF * (Qgpm / Cv1)**2\n",
    "\n",
    "#print(\"Flow Rate through Solinoid 1,   Qgpm = %.4f gpm\" % Qgpm)\n",
    "print(\"Pressure drop fuel Solinoid,      Pdrop1 = %.4f psi\" % Pdrop1)\n",
    "\n",
    "# Attempt to find Cv for orifice\n",
    "\n",
    "DPD = 600 # Desired pressure drop accross fuel orifice (psi)\n",
    "\n",
    "CvO = Qgpm * sqrt(SGF/DPD)\n",
    "\n",
    "print(\"Desired orifice pressure drop,    PDF    = %.0f psi\" % DPD)\n",
    "print(\"Required Cv for pressure drop,    CvO    = %.4f \" % CvO)\n"
   ]
  },
  {
   "cell_type": "code",
   "execution_count": 26,
   "metadata": {
    "collapsed": true
   },
   "outputs": [],
   "source": [
    "import sympy as sympy\n",
    "from sympy.solvers import solve\n",
    "from sympy import Symbol\n",
    "\n"
   ]
  },
  {
   "cell_type": "code",
   "execution_count": null,
   "metadata": {
    "collapsed": true
   },
   "outputs": [],
   "source": []
  }
 ],
 "metadata": {
  "kernelspec": {
   "display_name": "Python 3",
   "language": "python",
   "name": "python3"
  },
  "language_info": {
   "codemirror_mode": {
    "name": "ipython",
    "version": 3
   },
   "file_extension": ".py",
   "mimetype": "text/x-python",
   "name": "python",
   "nbconvert_exporter": "python",
   "pygments_lexer": "ipython3",
   "version": "3.6.1"
  }
 },
 "nbformat": 4,
 "nbformat_minor": 2
}
