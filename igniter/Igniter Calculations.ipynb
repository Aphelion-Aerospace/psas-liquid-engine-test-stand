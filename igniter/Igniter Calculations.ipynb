{
 "cells": [
  {
   "cell_type": "markdown",
   "metadata": {},
   "source": [
    "Please note September 19th entery in [LFETS Meating Notes](https://docs.google.com/document/d/1l_8dlIdJznsHb7cQ9t38HIvYR_ec9fbx6pr6vHvQvJs/edit?usp=sharing)\n",
    "\n",
    "\n",
    "\n",
    "\n",
    "Numbers:\n",
    "- Mixture ratio 1.2-1.4 approx. 1.3 O/F [Rocket Moonlighting](http://www.rocketmoonlighting.com/projects/pr56-igniter)\n",
    "- Thrust 1.1 lbsf - Taken from [Roberts](http://www.watzlavick.com/robert/rocket/news/2011.html) rocket Project\n",
    "- Bob's injector mass flow rate is $0.008 \\frac{lb}{sec}$\n",
    "\n",
    "See Huzel & Huang for\n",
    "\n",
    "Mass Flow Rate:\n",
    "*$\\dot{w}\\approx0.005\\dot{w}_{main}$  (Pg 9, 140)\n",
    "\n",
    "\n",
    "Exit Velocity:\n",
    "$V_{e} = \\sqrt{\\frac{2g\\gamma}{\\gamma-1}RT_{c_{ns}}\\bigg[1-\\bigg(\\frac{P_{e}}{P_{c_{ns}}}\\bigg)\\bigg]^\\frac{\\gamma-1}{\\gamma}} $  (HH Pg. 9)\n",
    "\n",
    "\n",
    "*Note that $\\dot{w}$ is split between propellants based on mixture ratio\n",
    "\n",
    "References:\n",
    "\n",
    "(HH)\n",
    "- Modern Engineering for Design of Liquid-Propellant Rocket Engines, Huzel & Huang\n",
    "\n",
    "\n",
    "\n"
   ]
  },
  {
   "cell_type": "code",
   "execution_count": null,
   "metadata": {
    "collapsed": true
   },
   "outputs": [],
   "source": []
  }
 ],
 "metadata": {
  "kernelspec": {
   "display_name": "Python 3",
   "language": "python",
   "name": "python3"
  },
  "language_info": {
   "codemirror_mode": {
    "name": "ipython",
    "version": 3
   },
   "file_extension": ".py",
   "mimetype": "text/x-python",
   "name": "python",
   "nbconvert_exporter": "python",
   "pygments_lexer": "ipython3",
   "version": "3.6.1"
  }
 },
 "nbformat": 4,
 "nbformat_minor": 2
}
