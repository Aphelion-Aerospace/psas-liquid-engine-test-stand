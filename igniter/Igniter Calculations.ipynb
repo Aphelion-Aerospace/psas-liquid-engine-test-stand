{
 "cells": [
  {
   "cell_type": "markdown",
   "metadata": {},
   "source": [
    "Please note September 19th entery in [LFETS Meating Notes](https://docs.google.com/document/d/1l_8dlIdJznsHb7cQ9t38HIvYR_ec9fbx6pr6vHvQvJs/edit?usp=sharing)\n",
    "\n",
    "\n",
    "\n",
    "\n",
    "Numbers:\n",
    "- Mixture ratio 1.2-1.4 approx. 1.3 O/F [Rocket Moonlighting](http://www.rocketmoonlighting.com/projects/pr56-igniter)\n",
    "- Thrust 1.1 lbsf - Taken from [Roberts](http://www.watzlavick.com/robert/rocket/news/2011.html) rocket Project\n",
    "- Bob's injector mass flow rate is $0.008 \\frac{lb}{sec}$\n",
    "- Chamber pressure 135 psig (NTM)\n",
    "\n",
    "See Huzel & Huang for\n",
    "\n",
    "Mass Flow Rate:\n",
    "*$\\dot{m}\\approx0.005\\dot{m}_{main}$  (Pg 9, 140)\n",
    "\n",
    "LFRE Design documentation: \n",
    "- Mass flow rate $ \\dot{m} = 2.06 \\frac{lbm}{s}$\n",
    " - $\\therefore \\ \\ \\dot{m}_{igniter} = (2.06 * .005)\\frac{lbm}{s} = 0.0103 \\frac{lbm}{s} $\n",
    "\n",
    "\n",
    "Exit Velocity:\n",
    "$V_{e} = \\sqrt{\\frac{2g\\gamma}{\\gamma-1}RT_{c_{ns}}\\bigg[1-\\bigg(\\frac{P_{e}}{P_{c_{ns}}}\\bigg)\\bigg]^\\frac{\\gamma-1}{\\gamma}} $  (HH Pg. 9)\n",
    "\n",
    "\n",
    "*Note that $\\dot{w}$ is split between propellants based on mixture ratio\n",
    "\n",
    "References:\n",
    "\n",
    "(HH)\n",
    "- Modern Engineering for Design of Liquid-Propellant Rocket Engines, Huzel & Huang\n",
    "\n",
    "(NTM)\n",
    "- NASA Technical Memorandum 106493 - Hydrogen-Oxygen Torch Igniter\n",
    "\n",
    "\n"
   ]
  },
  {
   "cell_type": "markdown",
   "metadata": {},
   "source": [
    "# Data Used for calculations\n",
    "\n",
    "[Isopropanol](http://www.chemicalbook.com/ChemicalProductProperty_EN_CB8854102.htm) density $\\rho_{ipa} = 786 \\frac{kg}{m^3} \\ \\rightarrow \\ 49.068 \\frac{lbm}{ft^3} $\n",
    "\n",
    "Water density $ = \\rho _{h20} = 62.3 \\frac{lbm}{ft^3}$\n",
    "\n",
    "$\\dot{m}_{igniter} = 0.0103 \\frac{lbm}{s} $\n",
    "\n",
    "Chamber pressure $ = 135 \\ psig $\n"
   ]
  },
  {
   "cell_type": "code",
   "execution_count": 128,
   "metadata": {
    "scrolled": true
   },
   "outputs": [
    {
     "name": "stdout",
     "output_type": "stream",
     "text": [
      "70 percent IPA Fuel density,   rho_f   = 53.04 lbm/ft^3\n",
      "Fuel Specific Gravity,         sgf     = 0.85 \n",
      "Oxygen Fuel Ratio O/F,         of      = 0.78 \n",
      "Total Igniter mass flow rate,  mdot    = 0.0103 lbm/sec\n",
      "Igniter Fuel mass flow rate,   mdot_F  = 0.0058 lbm/sec\n",
      "Igniter Oxygen mass flow rate, mdot_O  = 0.0045 lbm/sec\n",
      "Igniter Chamber Pressure,      icp     = 135.00 psig\n",
      "1/8th in tube Flow Area        area1_8 = 8.52e-05 ft^2\n",
      "Fuel Flow Velocity,            vFuel   = 1.28 ft/sec\n",
      "GOX Flow Velocity,             vGOX    = 635.42 ft/sec\n",
      "GOX Mach number,               machGOX = 0.60 \n",
      "Fuel flow rate in gpm          qgpm    = 0.0491 gpm\n"
     ]
    }
   ],
   "source": [
    "import math\n",
    "from mpmath import *\n",
    "\n",
    "#Define Constants\n",
    "g     = 32.2  # gravitational constant in ft/s^2\n",
    "\n",
    "#initial inputs\n",
    "rho_ipa  = 49.068    # Density of IPA in (lbm/ft^3)\n",
    "rho_h2O  = 62.30     # Density of water in (lbm/ft^3)\n",
    "rho_O2   = 0.0831     # Density of Liquid Oxygen in (lbm/ft^3)\n",
    "ofr     = 0.9       # Engine oxygen flow rate in (lbm/s)\n",
    "ffr     = 1.16      # Engine Fuel flow rate in (lbm/s)\n",
    "igff    = .005      # percent of main engine flow %\n",
    "mdot    = 0.0103    # Mass flow rate ing (lbm/s)\n",
    "icp     = 135       # Igniter Chamber pressure (psi)\n",
    "tube1_8 = 0.125     # 1/8th in Tube diameter (in)\n",
    "GOXsos  = 1067.55   #Speed of sound in GOX in (ft/sec) \n",
    "\n",
    "\n",
    "# initial calculated values for equations:\n",
    "\n",
    "mdot_O = igff * ofr   # Oxygen mass flow rate into igniter (lbm/s)s\n",
    "mdot_F = igff * ffr   # Fuel mass flow rate into igniter (lbm/s)\n",
    "rho_f = (.3 * rho_h2O) + (.7 * rho_ipa) # density of Fuel in lbm/ft^3\n",
    "of = ofr / ffr # O/F ratio\n",
    "area1_8 = (tube1_8 /24)**2 * pi() # in ft^2 \n",
    "vFuel = mdot_F / (rho_f * area1_8) #Fuel flow velocity (ft/s)\n",
    "vGOX = mdot_O / (rho_O2 *area1_8) #GOX flow velocity\n",
    "machGOX = vGOX / GOXsos #Mach # for GOX flow\n",
    "sgf = rho_f / rho_h2O # specific gravity\n",
    "vffr = 1 / rho_f * iffr * 60 #convert to per min, units of ft^3 / min\n",
    "qgpm = vffr * 7.48052 # convert ft^3 to US Gallons\n",
    "\n",
    "print(\"70 percent IPA Fuel density,   rho_f   = %.2f lbm/ft^3\" % rho_f)\n",
    "print(\"Fuel Specific Gravity,         sgf     = %.2f \" %sgf)\n",
    "print(\"Oxygen Fuel Ratio O/F,         of      = %.2f \" % of)\n",
    "print(\"Total Igniter mass flow rate,  mdot    = %.4f lbm/sec\" % mdot)\n",
    "print(\"Igniter Fuel mass flow rate,   mdot_F  = %.4f lbm/sec\" % mdot_F)\n",
    "print(\"Igniter Oxygen mass flow rate, mdot_O  = %.4f lbm/sec\" % mdot_O)\n",
    "print(\"Igniter Chamber Pressure,      icp     = %.2f psig\" % icp)\n",
    "print(\"1/8th in tube Flow Area        area1_8 = %.2e ft^2\" % area1_8)\n",
    "print(\"Fuel Flow Velocity,            vFuel   = %.2f ft/sec\" % vFuel)\n",
    "print(\"GOX Flow Velocity,             vGOX    = %.2f ft/sec\" % vGOX)\n",
    "print(\"GOX Mach number,               machGOX = %.2f \" % machGOX )\n",
    "print(\"Fuel flow rate in gpm          qgpm    = %.4f gpm\" %qgpm)\n"
   ]
  },
  {
   "cell_type": "markdown",
   "metadata": {
    "collapsed": true
   },
   "source": [
    "## Pressure Drop\n",
    "\n",
    "### Governing equations:\n",
    "\n",
    "$P_1 = P_2 + \\gamma z_2 + \\frac{1}{2}\\rho(V^2_2 -V^2_1)+\\gamma h_L$\n",
    "\n",
    "$\\Delta P = \\frac{(\\dot{m} \\ / \\ A \\ C_D)}{\\rho} $\n",
    "\n",
    "### Assumptions for igniter calculations:\n",
    "\n",
    "Incompressible flows (possibly will need to adjust this assumption for GOX line)\n",
    "\n",
    "Zero elevation change, so pressure head can be neglected $\\therefore \\rightarrow \\gamma z_2 = 0$  \n",
    "\n",
    "Fluid initially at rest $\\therefore \\rightarrow V^2_1 = 0$\n",
    "\n",
    "Very short lenghts of tube, $\\therefore$ Major Losses $= \\ 0$\n",
    "\n",
    "Minor losses $h_L = \\sum K_L \\frac{V^2}{2g}$ - Minor losses negligble with the exception of the fuel metering orifice.\n",
    "\n",
    "Mass Flow Rate $\\dot{m} = \\rho Q = \\rho AV $ units in$ \\frac{[slug]}{[s]}$ or $\\frac{[kg]}{[s]}$\n",
    "\n",
    "- where $Q$ is volume flow rate in $\\frac{ft^3}{s}$ or $\\frac{ft^3}{s}$ \n",
    "- $\\therefore \\ V = \\frac{\\dot{m}}{\\rho A}$\n",
    "\n",
    "### Working equations:\n",
    "\n",
    "*Where:* \n",
    "\n",
    "$P_{1o} =$ Oxygen inlet pressure \n",
    "\n",
    "$P_{1f} =$ Fuel inlet pressure \n",
    "\n",
    "$P_{ch} =$ Igniter Chamber pressure \n",
    "\n",
    "$r    =$ O/F mixure ratio\n",
    "\n",
    "$\\dot{m} =$ Igniter mass flow rate\n",
    "\n",
    "$\\dot{m}_o =$ Oxygen mass flow rate\n",
    "\n",
    "$\\dot{m}_f =$ Fuel mass flow rate\n",
    "\n",
    "$\\rho_o =$ density of GOX\n",
    "\n",
    "$\\rho_f = $ density of fuel\n",
    "\n",
    "$A_f=A_o =$ Tube area for Fuel and Oxygen lines\n",
    "\n",
    "\n",
    "## __GOX__ - *Gaseous Oxygen*\n",
    "\n",
    "$P_{1o} = P_{ch} + \\rho_o \\frac{\\left(\\frac{r \\dot{m}}{(r+1)}\\frac{1}{\\rho_o A_o} \\right) ^2}{2}$\n",
    "\n",
    "$\\therefore \\ P_{1o} = P_{ch} + \\rho_o \\frac{\\left(\\frac{\\dot{m}_o}{\\rho_o A_o} \\right) ^2}{2}$\n",
    "\n",
    "## __Fuel__ - *IPA*\n",
    "\n",
    "$P_{1f} = P_{ch} + \\rho_f \\frac{\\left(\\frac{\\dot{m}_f}{\\rho_f A_f} \\right) ^2}{2} + \\frac{(\\dot{m}_f \\ / \\ A_f \\ C_D)}{\\rho_f}$\n",
    "\n"
   ]
  },
  {
   "cell_type": "code",
   "execution_count": 199,
   "metadata": {},
   "outputs": [
    {
     "name": "stdout",
     "output_type": "stream",
     "text": [
      "Chamber Pressure = 333.50\n"
     ]
    },
    {
     "data": {
      "image/png": "[encoded data removed]",
      "text/plain": [
       "<matplotlib.figure.Figure at 0x6640bd8cf8>"
      ]
     },
     "metadata": {},
     "output_type": "display_data"
    }
   ],
   "source": [
    "import sympy as sympy\n",
    "#from sympy.solvers import solveset\n",
    "from sympy import *\n",
    "sympy.init_printing(use_unicode=False, wrap_line=True)\n",
    "from matplotlib import pyplot as plt\n",
    "\n",
    "p_1o     = Symbol('p_1o')      #oxygen inlet pressure\n",
    "p_1f     = Symbol('p_1f')      #fuel inlet pressure\n",
    "p_ch     = Symbol('p_ch')      #igniter chamber pressure\n",
    "#mdot_O   = Symbol('mdot_O')    #Oxygen mass flow rate\n",
    "#mdot_F   = Symbol('mdot_F')    #Fuel mass flow rate\n",
    "#rho_O2   = Symbol('rho_O2')    #density of GOX\n",
    "#rho_f    = Symbol('rho_f')     #density of fuel\n",
    "#area1_8  = Symbol('area1_8')  #area of 1/8th inch tube\n",
    "#C_d      = Symbol('C_d')       #Loss coefficent of fuel orifice    \n",
    "\n",
    "p_1o = 450 #pressure in psi \n",
    "\n",
    "#Eq(p_ch + rho_O2*( ((mdot_O)/(rho_O2*area1_8) )**2)/2, p_1o)\n",
    "\n",
    "p_ch = solveset(Eq((p_ch + (rho_O2*( ((mdot_O)/(rho_O2*area1_8) )**2)/2)/144), p_1o), p_ch).evalf(5)\n",
    "print (\"Chamber Pressure =\", p_ch.args[0])\n",
    "\n",
    "# C_d = 1\n",
    "pressure = []\n",
    "loss_coef =[]\n",
    "\n",
    "for x in range(1, 100):\n",
    "    C_d= x/100\n",
    "    loss_coef.append(C_d)\n",
    "    equation = Eq((p_ch.args[0] + \\\n",
    "            (rho_f*( ((mdot_F)/(rho_f*area1_8) )**2)/2)/144 + \\\n",
    "            (mdot_F/(area1_8*C_d))/(144*rho_f)), p_1f)\n",
    "    pressure.append(solveset(equation, p_1f).evalf(5).args[0])\n",
    "\n",
    "#print(loss_coef)\n",
    "#print(pressure)\n",
    "\n",
    "plt.plot(pressure, loss_coef)\n",
    "plt.ylabel('Loss Coefficent')\n",
    "plt.xlabel('pressure')\n",
    "plt.show()\n",
    "\n",
    "\n",
    "         "
   ]
  },
  {
   "cell_type": "code",
   "execution_count": 130,
   "metadata": {},
   "outputs": [
    {
     "name": "stdout",
     "output_type": "stream",
     "text": [
      "Pressure drop fuel Solinoid,      pdrop1 = 1.0128 psi\n",
      "Desired orifice pressure drop,    dpd    = 100 psi\n",
      "Required Cv for pressure drop,    cv0    = 0.0045 \n"
     ]
    }
   ],
   "source": [
    "# Need to input the KL variables prior to solving for inlet pressure. \n",
    "\n",
    "#1/8 in solinoid\n",
    "\n",
    "cv1 = 0.045        #GPM take from Valve data sheet\n",
    "\n",
    "#Calculations\n",
    "pdrop1 = sgf * (qgpm / cv1)**2\n",
    "\n",
    "#print(\"Flow Rate through Solinoid 1,   Qgpm = %.4f gpm\" % Qgpm)\n",
    "print(\"Pressure drop fuel Solinoid,      pdrop1 = %.4f psi\" % pdrop1)\n",
    "\n",
    "# Attempt to find Cv for orifice\n",
    "\n",
    "dpd = 100 # Desired pressure drop accross fuel orifice (psi)\n",
    "\n",
    "cv0 = qgpm * sqrt(sgf/dpd)\n",
    "\n",
    "print(\"Desired orifice pressure drop,    dpd    = %.0f psi\" % dpd)\n",
    "print(\"Required Cv for pressure drop,    cv0    = %.4f \" % cv0)\n"
   ]
  },
  {
   "cell_type": "code",
   "execution_count": null,
   "metadata": {
    "collapsed": true
   },
   "outputs": [],
   "source": [
    "\n",
    "\n"
   ]
  },
  {
   "cell_type": "code",
   "execution_count": 143,
   "metadata": {},
   "outputs": [
    {
     "name": "stdout",
     "output_type": "stream",
     "text": [
      "We're on time 0\n",
      "We're on time 1\n",
      "We're on time 2\n"
     ]
    }
   ],
   "source": [
    "for x in range(0, 3):\n",
    "    print (\"We're on time %d\" % (x))"
   ]
  },
  {
   "cell_type": "code",
   "execution_count": null,
   "metadata": {
    "collapsed": true
   },
   "outputs": [],
   "source": []
  },
  {
   "cell_type": "code",
   "execution_count": null,
   "metadata": {
    "collapsed": true
   },
   "outputs": [],
   "source": []
  }
 ],
 "metadata": {
  "kernelspec": {
   "display_name": "Python 3",
   "language": "python",
   "name": "python3"
  },
  "language_info": {
   "codemirror_mode": {
    "name": "ipython",
    "version": 3
   },
   "file_extension": ".py",
   "mimetype": "text/x-python",
   "name": "python",
   "nbconvert_exporter": "python",
   "pygments_lexer": "ipython3",
   "version": "3.6.1"
  }
 },
 "nbformat": 4,
 "nbformat_minor": 2
}
