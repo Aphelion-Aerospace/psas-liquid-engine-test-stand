{
 "cells": [
  {
   "cell_type": "markdown",
   "metadata": {},
   "source": [
    "Please note September 19th entery in [LFETS Meating Notes](https://docs.google.com/document/d/1l_8dlIdJznsHb7cQ9t38HIvYR_ec9fbx6pr6vHvQvJs/edit?usp=sharing)\n",
    "\n",
    "\n",
    "\n",
    "\n",
    "Numbers:\n",
    "- Mixture ratio 1.2-1.4 approx. 1.3 O/F [Rocket Moonlighting](http://www.rocketmoonlighting.com/projects/pr56-igniter)\n",
    "- Thrust 1.1 lbsf - Taken from [Roberts](http://www.watzlavick.com/robert/rocket/news/2011.html) rocket Project\n",
    "- Bob's injector mass flow rate is $0.008 \\frac{lb}{sec}$\n",
    "- Chamber pressure 135 psig (NTM)\n",
    "\n",
    "See Huzel & Huang for\n",
    "\n",
    "Mass Flow Rate:\n",
    "*$\\dot{m}\\approx0.005\\dot{m}_{main}$  (Pg 9, 140)\n",
    "\n",
    "LFRE Design documentation: \n",
    "- Mass flow rate $ \\dot{m} = 2.06 \\frac{lbm}{s}$\n",
    " - $\\therefore \\ \\ \\dot{m}_{igniter} = (2.06 * .005)\\frac{lbm}{s} = 0.0103 \\frac{lbm}{s} $\n",
    "\n",
    "\n",
    "Exit Velocity:\n",
    "$V_{e} = \\sqrt{\\frac{2g\\gamma}{\\gamma-1}RT_{c_{ns}}\\bigg[1-\\bigg(\\frac{P_{e}}{P_{c_{ns}}}\\bigg)\\bigg]^\\frac{\\gamma-1}{\\gamma}} $  (HH Pg. 9)\n",
    "\n",
    "\n",
    "*Note that $\\dot{w}$ is split between propellants based on mixture ratio\n",
    "\n",
    "References:\n",
    "\n",
    "(HH)\n",
    "- Modern Engineering for Design of Liquid-Propellant Rocket Engines, Huzel & Huang\n",
    "\n",
    "(NTM)\n",
    "- NASA Technical Memorandum 106493 - Hydrogen-Oxygen Torch Igniter\n",
    "\n",
    "\n"
   ]
  },
  {
   "cell_type": "markdown",
   "metadata": {},
   "source": [
    "# Data Used for calculations\n",
    "\n",
    "[Isopropanol](http://www.chemicalbook.com/ChemicalProductProperty_EN_CB8854102.htm) density $\\rho_{ipa} = 786 \\frac{kg}{m^3} \\ \\rightarrow \\ 49.068 \\frac{lbm}{ft^3} $\n",
    "\n",
    "Water density $ = \\rho _{h20} = 62.3 \\frac{lbm}{ft^3}$\n",
    "\n",
    "$\\dot{m}_{igniter} = 0.0103 \\frac{lbm}{s} $\n",
    "\n",
    "Chamber pressure $ = 135 \\ psig $\n"
   ]
  },
  {
   "cell_type": "code",
   "execution_count": 3,
   "metadata": {
    "scrolled": true
   },
   "outputs": [
    {
     "name": "stdout",
     "output_type": "stream",
     "text": [
      "70 percent IPA Fuel density,   density_fuel   = 53.04 lbm/ft^3\n",
      "Fuel Specific Gravity,         specific_gravity_fuel     = 0.85 \n",
      "Oxygen Fuel Ratio O/F,         oxfuel_ratio      = 0.78 \n",
      "Total Igniter mass flow rate,  flowrate_mass    = 0.0103 lbm/sec\n",
      "Igniter Fuel mass flow rate,   flowrate_mass_F  = 0.0058 lbm/sec\n",
      "Igniter Oxygen mass flow rate, flowrate_mass_O  = 0.0045 lbm/sec\n",
      "Igniter Chamber Pressure,      chamber_pressure_igniter     = 135.00 psig\n",
      "1/8th in tube Flow Area        area_125 = 8.52e-05 ft^2\n",
      "Fuel Flow Velocity,            veloctiy_flow_fuel   = 1.28 ft/sec\n",
      "GOX Flow Velocity,             velocity_flow_GOX    = 635.42 ft/sec\n",
      "GOX Mach number,               machGOX = 0.60 \n",
      "Fuel flow rate in gpm          flowrate_fuel_gpm    = 0.0491 gpm\n"
     ]
    }
   ],
   "source": [
    "import math\n",
    "from mpmath import *\n",
    "\n",
    "#Define Constants\n",
    "g     = 32.2  # gravitational constant in ft/s^2\n",
    "\n",
    "#initial inputs\n",
    "density_ipa  = 49.068    # Density of IPA in (lbm/ft^3)\n",
    "density_H2O  = 62.30     # Density of water in (lbm/ft^3)\n",
    "density_LOX   = 0.0831     # (Engine) Density of Liquid Oxygen in (lbm/ft^3)\n",
    "flowrate_GOX     = 0.9       # Engine oxygen flow rate in (lbm/s)\n",
    "flowrate_Fuel_Engine     = 1.16      # Engine Fuel flow rate in (lbm/s)\n",
    "flowrate_Fuel_Igniter    = .005      # percent of main engine flow %\n",
    "flowrate_mass    = 0.0103    # Mass flow rate ign (lbm/s)\n",
    "chamber_pressure_igniter     = 135       # Igniter Chamber pressure (psi)\n",
    "tube_125 = 0.125     # 1/8th in Tube diameter (in)\n",
    "C_speed_sound_GOX  = 1067.55   #Speed of sound in GOX in (ft/sec) \n",
    "\n",
    "\n",
    "# initial calculated values for equations:\n",
    "\n",
    "flowrate_mass_O = flowrate_Fuel_Igniter * flowrate_GOX   # Oxygen mass flow rate into igniter (lbm/s)s\n",
    "flowrate_mass_F = flowrate_Fuel_Igniter * flowrate_Fuel_Engine   # Fuel mass flow rate into igniter (lbm/s)\n",
    "density_fuel = (.3 * density_H2O) + (.7 * density_ipa) # density of Fuel in lbm/ft^3\n",
    "oxfuel_ratio = flowrate_GOX / flowrate_Fuel_Engine # O/F ratio\n",
    "area_125 = (tube_125 /24)**2 * pi() # in ft^2 \n",
    "veloctiy_flow_fuel = flowrate_mass_F / (density_fuel * area_125) #Fuel flow velocity (ft/s)\n",
    "velocity_flow_GOX = flowrate_mass_O / (density_LOX *area_125) #GOX flow velocity\n",
    "machGOX = velocity_flow_GOX / C_speed_sound_GOX #Mach # for GOX flow\n",
    "specific_gravity_fuel = density_fuel / density_H2O # specific gravity\n",
    "velocity_flow_fuel_engine = 1 / density_fuel * (flowrate_Fuel_Igniter*flowrate_Fuel_Engine) * 60 #convert to per min, units of ft^3 / min\n",
    "flowrate_fuel_gpm = velocity_flow_fuel_engine * 7.48052 # convert ft^3 to US Gallons\n",
    "\n",
    "print(\"70 percent IPA Fuel density,   density_fuel   = %.2f lbm/ft^3\" % density_fuel)\n",
    "print(\"Fuel Specific Gravity,         specific_gravity_fuel     = %.2f \" %specific_gravity_fuel)\n",
    "print(\"Oxygen Fuel Ratio O/F,         oxfuel_ratio      = %.2f \" % oxfuel_ratio)\n",
    "print(\"Total Igniter mass flow rate,  flowrate_mass    = %.4f lbm/sec\" % flowrate_mass)\n",
    "print(\"Igniter Fuel mass flow rate,   flowrate_mass_F  = %.4f lbm/sec\" % flowrate_mass_F)\n",
    "print(\"Igniter Oxygen mass flow rate, flowrate_mass_O  = %.4f lbm/sec\" % flowrate_mass_O)\n",
    "print(\"Igniter Chamber Pressure,      chamber_pressure_igniter     = %.2f psig\" % chamber_pressure_igniter)\n",
    "print(\"1/8th in tube Flow Area        area_125 = %.2e ft^2\" % area_125)\n",
    "print(\"Fuel Flow Velocity,            veloctiy_flow_fuel   = %.2f ft/sec\" % veloctiy_flow_fuel)\n",
    "print(\"GOX Flow Velocity,             velocity_flow_GOX    = %.2f ft/sec\" % velocity_flow_GOX)\n",
    "print(\"GOX Mach number,               machGOX = %.2f \" % machGOX )\n",
    "print(\"Fuel flow rate in gpm          flowrate_fuel_gpm    = %.4f gpm\" %flowrate_fuel_gpm)\n"
   ]
  },
  {
   "cell_type": "markdown",
   "metadata": {
    "collapsed": true
   },
   "source": [
    "## Pressure Drop\n",
    "\n",
    "### Governing equations:\n",
    "\n",
    "$P_1 = P_2 + \\gamma z_2 + \\frac{1}{2}\\rho(V^2_2 -V^2_1)+\\gamma h_L$\n",
    "\n",
    "$\\Delta P = \\frac{(\\dot{m} \\ / \\ A \\ C_D)}{\\rho} $\n",
    "\n",
    "### Assumptions for igniter calculations:\n",
    "\n",
    "Incompressible flows (possibly will need to adjust this assumption for GOX line)\n",
    "\n",
    "Zero elevation change, so pressure head can be neglected $\\therefore \\rightarrow \\gamma z_2 = 0$  \n",
    "\n",
    "Fluid initially at rest $\\therefore \\rightarrow V^2_1 = 0$\n",
    "\n",
    "Very short lenghts of tube, $\\therefore$ Major Losses $= \\ 0$\n",
    "\n",
    "Minor losses $h_L = \\sum K_L \\frac{V^2}{2g}$ - Minor losses negligble with the exception of the fuel metering orifice.\n",
    "\n",
    "Mass Flow Rate $\\dot{m} = \\rho Q = \\rho AV $ units in$ \\frac{[slug]}{[s]}$ or $\\frac{[kg]}{[s]}$\n",
    "\n",
    "- where $Q$ is volume flow rate in $\\frac{ft^3}{s}$ or $\\frac{ft^3}{s}$ \n",
    "- $\\therefore \\ V = \\frac{\\dot{m}}{\\rho A}$\n",
    "\n",
    "### Working equations:\n",
    "\n",
    "*Where:* \n",
    "\n",
    "$P_{1o} =$ Oxygen inlet pressure \n",
    "\n",
    "$P_{1f} =$ Fuel inlet pressure \n",
    "\n",
    "$P_{ch} =$ Igniter Chamber pressure \n",
    "\n",
    "$r    =$ O/F mixure ratio\n",
    "\n",
    "$\\dot{m} =$ Igniter mass flow rate\n",
    "\n",
    "$\\dot{m}_o =$ Oxygen mass flow rate\n",
    "\n",
    "$\\dot{m}_f =$ Fuel mass flow rate\n",
    "\n",
    "$\\rho_o =$ density of GOX\n",
    "\n",
    "$\\rho_f = $ density of fuel\n",
    "\n",
    "$A_f=A_o =$ Tube area for Fuel and Oxygen lines\n",
    "\n",
    "## __Schematic of Igniter Test rig__ \n",
    "\n",
    "<img src=\"Igniter_Test_Stand_PID_2017.10.10.jpg\", width=550, height=550 >\n",
    "\n",
    "## __GOX__ - *Gaseous Oxygen*\n",
    "\n",
    "$P_{1o} = P_{ch} + \\rho_o \\frac{\\left(\\frac{r \\dot{m}}{(r+1)}\\frac{1}{\\rho_o A_o} \\right) ^2}{2}$\n",
    "\n",
    "$\\therefore \\ P_{1o} = P_{ch} + \\rho_o \\frac{\\left(\\frac{\\dot{m}_o}{\\rho_o A_o} \\right) ^2}{2}$\n",
    "\n",
    "## __Fuel__ - *IPA*\n",
    "\n",
    "$P_{1f} = P_{ch} + \\rho_f \\frac{\\left(\\frac{\\dot{m}_f}{\\rho_f A_f} \\right) ^2}{2} + \\frac{(\\dot{m}_f \\ / \\ A_f \\ C_D)}{\\rho_f}$\n",
    "\n"
   ]
  },
  {
   "cell_type": "code",
   "execution_count": 15,
   "metadata": {},
   "outputs": [
    {
     "name": "stdout",
     "output_type": "stream",
     "text": [
      "Chamber Pressure = 333.50\n"
     ]
    },
    {
     "data": {
      "image/png": "[encoded data removed]",
      "text/plain": [
       "<matplotlib.figure.Figure at 0x14e47e836a0>"
      ]
     },
     "metadata": {},
     "output_type": "display_data"
    }
   ],
   "source": [
    "import sympy as sympy\n",
    "#from sympy.solvers import solveset\n",
    "from sympy import *\n",
    "sympy.init_printing(use_unicode=False, wrap_line=True)\n",
    "from matplotlib import pyplot as plt\n",
    "\n",
    "p_1o     = Symbol('p_1o')      #oxygen inlet pressure\n",
    "p_1f     = Symbol('p_1f')      #fuel inlet pressure\n",
    "p_ch     = Symbol('p_ch')      #igniter chamber pressure\n",
    "#mdot_O   = Symbol('mdot_O')    #Oxygen mass flow rate\n",
    "#mdot_F   = Symbol('mdot_F')    #Fuel mass flow rate\n",
    "#rho_O2   = Symbol('rho_O2')    #density of GOX\n",
    "#rho_f    = Symbol('rho_f')     #density of fuel\n",
    "#area1_8  = Symbol('area1_8')  #area of 1/8th inch tube\n",
    "#C_d      = Symbol('C_d')       #Loss coefficent of fuel orifice    \n",
    "\n",
    "p_1o = 450 #pressure in psi \n",
    "# p_1f = 725 #pressure in psi\n",
    "\n",
    "#Eq(p_ch + rho_O2*( ((mdot_O)/(rho_O2*area1_8) )**2)/2, p_1o)\n",
    "\n",
    "p_ch = solveset(Eq((p_ch + (rho_O2*( ((mdot_O)/(rho_O2*area1_8) )**2)/2)/144), p_1o), p_ch).evalf(5)\n",
    "print (\"Chamber Pressure =\", p_ch.args[0])\n",
    "\n",
    "# C_d = 1\n",
    "pressure = []\n",
    "loss_coef =[]\n",
    "\n",
    "\n",
    "for x in range(1, 100):\n",
    "    C_d= x/100\n",
    "    loss_coef.append(C_d)\n",
    "    equation = Eq((p_ch.args[0] + \\\n",
    "            (rho_f*( ((mdot_F)/(rho_f*area1_8) )**2)/2)/144 + \\\n",
    "            (mdot_F/(area1_8*C_d))/(144*rho_f)), p_1f)\n",
    "    pressure.append(solveset(equation, p_1f).evalf(5).args[0])\n",
    "\n",
    "#print(loss_coef)\n",
    "#print(pressure)\n",
    "\n",
    "plt.plot(pressure, loss_coef)\n",
    "plt.ylabel('Loss Coefficent')\n",
    "plt.xlabel('pressure')\n",
    "plt.show()\n",
    "\n",
    "\n",
    "         "
   ]
  },
  {
   "cell_type": "code",
   "execution_count": 12,
   "metadata": {},
   "outputs": [
    {
     "name": "stdout",
     "output_type": "stream",
     "text": [
      "Pressure drop fuel Solinoid,      pdrop1 = 1.0128 psi\n",
      "Desired orifice pressure drop,    dpd    = 100 psi\n",
      "Required Cv for pressure drop,    cv0    = 0.0045 \n"
     ]
    }
   ],
   "source": [
    "# Need to input the KL variables prior to solving for inlet pressure. \n",
    "\n",
    "#1/8 in solinoid\n",
    "\n",
    "cv1 = 0.045        #GPM take from Valve data sheet\n",
    "\n",
    "#Calculations\n",
    "pdrop1 = sgf * (qgpm / cv1)**2\n",
    "\n",
    "#print(\"Flow Rate through Solinoid 1,   Qgpm = %.4f gpm\" % Qgpm)\n",
    "print(\"Pressure drop fuel Solinoid,      pdrop1 = %.4f psi\" % pdrop1)\n",
    "\n",
    "# Attempt to find Cv for orifice\n",
    "\n",
    "dpd = 100 # Desired pressure drop accross fuel orifice (psi)\n",
    "\n",
    "cv0 = qgpm * sqrt(sgf/dpd)\n",
    "\n",
    "print(\"Desired orifice pressure drop,    dpd    = %.0f psi\" % dpd)\n",
    "print(\"Required Cv for pressure drop,    cv0    = %.4f \" % cv0)\n"
   ]
  },
  {
   "cell_type": "code",
   "execution_count": null,
   "metadata": {
    "collapsed": true
   },
   "outputs": [],
   "source": [
    "\n",
    "\n"
   ]
  },
  {
   "cell_type": "code",
   "execution_count": 143,
   "metadata": {},
   "outputs": [
    {
     "name": "stdout",
     "output_type": "stream",
     "text": [
      "We're on time 0\n",
      "We're on time 1\n",
      "We're on time 2\n"
     ]
    }
   ],
   "source": [
    "for x in range(0, 3):\n",
    "    print (\"We're on time %d\" % (x))"
   ]
  },
  {
   "cell_type": "code",
   "execution_count": null,
   "metadata": {
    "collapsed": true
   },
   "outputs": [],
   "source": []
  },
  {
   "cell_type": "code",
   "execution_count": null,
   "metadata": {
    "collapsed": true
   },
   "outputs": [],
   "source": []
  }
 ],
 "metadata": {
  "kernelspec": {
   "display_name": "Python 3",
   "language": "python",
   "name": "python3"
  },
  "language_info": {
   "codemirror_mode": {
    "name": "ipython",
    "version": 3
   },
   "file_extension": ".py",
   "mimetype": "text/x-python",
   "name": "python",
   "nbconvert_exporter": "python",
   "pygments_lexer": "ipython3",
   "version": "3.6.3"
  }
 },
 "nbformat": 4,
 "nbformat_minor": 2
}
