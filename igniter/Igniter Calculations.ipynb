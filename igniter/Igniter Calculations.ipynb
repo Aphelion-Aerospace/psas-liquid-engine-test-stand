{
 "cells": [
  {
   "cell_type": "markdown",
   "metadata": {},
   "source": [
    "Please note September 19th entery in [LFETS Meating Notes](https://docs.google.com/document/d/1l_8dlIdJznsHb7cQ9t38HIvYR_ec9fbx6pr6vHvQvJs/edit?usp=sharing)\n",
    "\n",
    "\n",
    "\n",
    "\n",
    "Numbers:\n",
    "- Mixture ratio 1.2-1.4 approx. 1.3 O/F [Rocket Moonlighting](http://www.rocketmoonlighting.com/projects/pr56-igniter)\n",
    "- Thrust 1.1 lbsf - Taken from [Roberts](http://www.watzlavick.com/robert/rocket/news/2011.html) rocket Project\n",
    "- Bob's injector mass flow rate is $0.008 \\frac{lb}{sec}$\n",
    "- Chamber pressure 135 psig (NTM)\n",
    "\n",
    "See Huzel & Huang for\n",
    "\n",
    "Mass Flow Rate:\n",
    "*$\\dot{m}\\approx0.005\\dot{m}_{main}$  (Pg 9, 140)\n",
    "\n",
    "LFRE Design documentation: \n",
    "- Mass flow rate $ \\dot{m} = 2.06 \\frac{lbm}{s}$\n",
    " - $\\therefore \\ \\ \\dot{m}_{igniter} = (2.06 * .005)\\frac{lbm}{s} = 0.0103 \\frac{lbm}{s} $\n",
    "\n",
    "\n",
    "Exit Velocity:\n",
    "$V_{e} = \\sqrt{\\frac{2g\\gamma}{\\gamma-1}RT_{c_{ns}}\\bigg[1-\\bigg(\\frac{P_{e}}{P_{c_{ns}}}\\bigg)\\bigg]^\\frac{\\gamma-1}{\\gamma}} $  (HH Pg. 9)\n",
    "\n",
    "\n",
    "*Note that $\\dot{w}$ is split between propellants based on mixture ratio\n",
    "\n",
    "References:\n",
    "\n",
    "(HH)\n",
    "- Modern Engineering for Design of Liquid-Propellant Rocket Engines, Huzel & Huang\n",
    "\n",
    "(NTM)\n",
    "- NASA Technical Memorandum 106493 - Hydrogen-Oxygen Torch Igniter\n",
    "\n",
    "\n"
   ]
  },
  {
   "cell_type": "markdown",
   "metadata": {},
   "source": [
    "# Data Used for calculations\n",
    "\n",
    "[Isopropanol](http://www.chemicalbook.com/ChemicalProductProperty_EN_CB8854102.htm) density $\\rho_{ipa} = 786 \\frac{kg}{m^3} \\ \\rightarrow \\ 49.068 \\frac{lbm}{ft^3} $\n",
    "\n",
    "Water density $ = \\rho _{h20} = 62.3 \\frac{lbm}{ft^3}$\n",
    "\n",
    "$\\dot{m}_{igniter} = 0.0103 \\frac{lbm}{s} $\n",
    "\n",
    "Chamber pressure $ = 135 \\ psig $\n"
   ]
  },
  {
   "cell_type": "code",
   "execution_count": 27,
   "metadata": {},
   "outputs": [
    {
     "data": {
      "application/vnd.jupyter.widget-view+json": {
       "model_id": "c5af298241684b87b5377b5dfdb8d21f"
      }
     },
     "metadata": {},
     "output_type": "display_data"
    },
    {
     "data": {
      "application/vnd.jupyter.widget-view+json": {
       "model_id": "9299bea1e2ce46459c5645ce5c3c0aca"
      }
     },
     "metadata": {},
     "output_type": "display_data"
    },
    {
     "data": {
      "application/vnd.jupyter.widget-view+json": {
       "model_id": "33e3fae99601430daa5d1a725a14a50a"
      }
     },
     "metadata": {},
     "output_type": "display_data"
    },
    {
     "data": {
      "application/vnd.jupyter.widget-view+json": {
       "model_id": "8944302e481b4299a4cef7315cc46071"
      }
     },
     "metadata": {},
     "output_type": "display_data"
    },
    {
     "data": {
      "application/vnd.jupyter.widget-view+json": {
       "model_id": "b2ce54dc385d437799e298d44d920726"
      }
     },
     "metadata": {},
     "output_type": "display_data"
    },
    {
     "data": {
      "application/vnd.jupyter.widget-view+json": {
       "model_id": "4fc446944ade4f6c80751394b986ebd1"
      }
     },
     "metadata": {},
     "output_type": "display_data"
    },
    {
     "data": {
      "application/vnd.jupyter.widget-view+json": {
       "model_id": "c3f595f82aed455484662375d5645b35"
      }
     },
     "metadata": {},
     "output_type": "display_data"
    },
    {
     "name": "stdout",
     "output_type": "stream",
     "text": [
      "Flow Velocity, Vf: 2.28 ft/sec\n"
     ]
    }
   ],
   "source": [
    "import math\n",
    "from mpmath import *\n",
    "from IPython.display import display\n",
    "from ipywidgets import widgets\n",
    "\n",
    "#Define Constants\n",
    "g     = 32.2  # gravitational constant in ft/s^2\n",
    "\n",
    "#initial inputs\n",
    "#-------------------------------------------------------------------------\n",
    "#var_     = widgets.Text(\"value\" , description=\"desc, (units)\"                          , width=60  )\n",
    "rhoipa_   = widgets.Text(\"49.068\" , description=\"Density, (lbm/ft^3)\"                   , width=60  )\n",
    "rhoh20_   = widgets.Text(\"62.30\"  , description=\"Density, (lbm/ft^3)\"                   , width=60  )\n",
    "Ofr_      = widgets.Text(\"0.9\"  , description=\"eng. Oxygen flow rate in (lbm/s)\"        , width=60  )\n",
    "Ffr_      = widgets.Text(\"1.16\"  , description=\"Eng Fuel flow rate in (lbm/s)\"          , width=60  )\n",
    "mdot_     = widgets.Text(\"0.0103\", description=\"Mass flow rate ing (lbm/s)\"             , width=60  )\n",
    "ICP_      = widgets.Text(\"135\"   , description=\"Igniter Chamber pressure (psi)\"         , width=60  )\n",
    "TD1_      = widgets.Text(\"0.125\" , description=\"Tube diameter # 1 (in)\"                 , width=60  )\n",
    "\n",
    "#Display user input text boxes\n",
    "#display(var_     )\n",
    "display(rhoipa_   )\n",
    "display(rhoh20_   )\n",
    "display(Ofr_      )\n",
    "display(Ffr_      )\n",
    "display(mdot_     )\n",
    "display(ICP_      )\n",
    "display(TD1_      )\n",
    "\n",
    "# initial calculated values for equations:\n",
    "\n",
    "rhoF = (.3 * rhoh20) + (.7 * rhoipa) # density of Fuel in lbm/ft^3\n",
    "OF = Ofr / Ffr # O/F ratio in lbm/s\n",
    "Area = (TD1 /24)**2 * pi() # in ft^2 \n",
    "Vf = mdot/(rhoF * Area) #ft/s\n",
    "\n",
    "print(\"Flow Velocity, Vf: %.2f ft/sec\" % Vf)\n"
   ]
  },
  {
   "cell_type": "markdown",
   "metadata": {
    "collapsed": true
   },
   "source": [
    "## Pressure Drop\n",
    "\n",
    "### Governing equation:\n",
    "\n",
    "$P_1 = P_2 + \\gamma z_2 + \\frac{1}{2}\\rho(V^2_2 -V^2_1)+\\gamma h_L$\n",
    "\n",
    "### Assumptions for igniter calculations:\n",
    "\n",
    "Zero elevation change, so pressure head can be neglected $\\therefore \\rightarrow \\gamma z_2 = 0$  \n",
    "\n",
    "Fluid initially at rest $\\therefore \\rightarrow V^2_1 = 0$\n",
    "\n",
    "Very short lenghts of tube, $\\therefore$ Major Losses $= \\ 0$\n",
    "\n",
    "Minor losses $h_L = \\sum K_L \\frac{V^2}{2g}$\n",
    "\n",
    "Mass Flow Rate $\\dot{m} = \\rho Q = \\rho AV $ units in$ \\frac{[slug]}{[s]}$ or $\\frac{[kg]}{[s]}$\n",
    "- where $Q$ is volume flow rate in $\\frac{ft^3}{s}$ or $\\frac{ft^3}{s}$ \n",
    "\n",
    "\n",
    "### Working equation:\n",
    "\n",
    "$P_1 = P_2 + \\frac{1}{2} \\rho (V^2_2) \\ + \\ \\rho \\frac{V^2}{2} \\sum K_L$\n",
    "\n"
   ]
  },
  {
   "cell_type": "code",
   "execution_count": 28,
   "metadata": {
    "collapsed": true
   },
   "outputs": [],
   "source": [
    "# Need to input the KL variables prior to solving for inlet pressure. "
   ]
  },
  {
   "cell_type": "code",
   "execution_count": null,
   "metadata": {
    "collapsed": true
   },
   "outputs": [],
   "source": [
    "import sympy as sympy\n",
    "\n",
    "from sympy.solvers import solve\n",
    "from sympy import Symbol\n",
    "\n",
    "# Use sympy to solve for Inlet pressure for Fuel side\n"
   ]
  }
 ],
 "metadata": {
  "kernelspec": {
   "display_name": "Python 3",
   "language": "python",
   "name": "python3"
  },
  "language_info": {
   "codemirror_mode": {
    "name": "ipython",
    "version": 3
   },
   "file_extension": ".py",
   "mimetype": "text/x-python",
   "name": "python",
   "nbconvert_exporter": "python",
   "pygments_lexer": "ipython3",
   "version": "3.6.1"
  }
 },
 "nbformat": 4,
 "nbformat_minor": 2
}
